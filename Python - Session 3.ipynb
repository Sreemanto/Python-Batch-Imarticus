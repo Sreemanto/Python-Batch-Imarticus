{
 "cells": [
  {
   "cell_type": "markdown",
   "id": "25f04282",
   "metadata": {},
   "source": [
    "Classes and Objects in Python\n",
    "\n",
    "Numpy"
   ]
  },
  {
   "cell_type": "code",
   "execution_count": 1,
   "id": "ecb18d8f",
   "metadata": {},
   "outputs": [],
   "source": [
    "my_list = [1,2,3,4,5]"
   ]
  },
  {
   "cell_type": "code",
   "execution_count": 2,
   "id": "c59adf35",
   "metadata": {},
   "outputs": [
    {
     "data": {
      "text/plain": [
       "list"
      ]
     },
     "execution_count": 2,
     "metadata": {},
     "output_type": "execute_result"
    }
   ],
   "source": [
    "type(my_list)"
   ]
  },
  {
   "cell_type": "code",
   "execution_count": 4,
   "id": "2b09cc31",
   "metadata": {},
   "outputs": [],
   "source": [
    "class SampleClass:  \n",
    "    pass"
   ]
  },
  {
   "cell_type": "code",
   "execution_count": 5,
   "id": "cf02a0cc",
   "metadata": {},
   "outputs": [],
   "source": [
    "s1 = SampleClass()"
   ]
  },
  {
   "cell_type": "code",
   "execution_count": 6,
   "id": "911b39bc",
   "metadata": {},
   "outputs": [
    {
     "data": {
      "text/plain": [
       "__main__.SampleClass"
      ]
     },
     "execution_count": 6,
     "metadata": {},
     "output_type": "execute_result"
    }
   ],
   "source": [
    "type(s1)"
   ]
  },
  {
   "cell_type": "code",
   "execution_count": 13,
   "id": "eeceffbc",
   "metadata": {},
   "outputs": [],
   "source": [
    "class MobilePhone():\n",
    "    \n",
    "    def __init__(self,Price,Model): #acts as constructor\n",
    "                                    #constructor is something which activates an object\n",
    "        self.m = Model\n",
    "        self.p = Price"
   ]
  },
  {
   "cell_type": "code",
   "execution_count": 14,
   "id": "c3c6ca10",
   "metadata": {
    "collapsed": true
   },
   "outputs": [
    {
     "ename": "TypeError",
     "evalue": "__init__() missing 2 required positional arguments: 'Price' and 'Model'",
     "output_type": "error",
     "traceback": [
      "\u001b[0;31m---------------------------------------------------------------------------\u001b[0m",
      "\u001b[0;31mTypeError\u001b[0m                                 Traceback (most recent call last)",
      "\u001b[0;32m<ipython-input-14-4617edb44a01>\u001b[0m in \u001b[0;36m<module>\u001b[0;34m\u001b[0m\n\u001b[0;32m----> 1\u001b[0;31m \u001b[0mm1\u001b[0m \u001b[0;34m=\u001b[0m \u001b[0mMobilePhone\u001b[0m\u001b[0;34m(\u001b[0m\u001b[0;34m)\u001b[0m\u001b[0;34m\u001b[0m\u001b[0;34m\u001b[0m\u001b[0m\n\u001b[0m",
      "\u001b[0;31mTypeError\u001b[0m: __init__() missing 2 required positional arguments: 'Price' and 'Model'"
     ]
    }
   ],
   "source": [
    "m1 = MobilePhone()"
   ]
  },
  {
   "cell_type": "code",
   "execution_count": 15,
   "id": "760a8d6d",
   "metadata": {},
   "outputs": [],
   "source": [
    "m1 = MobilePhone(10000,'MI 9')"
   ]
  },
  {
   "cell_type": "code",
   "execution_count": 16,
   "id": "06982d16",
   "metadata": {},
   "outputs": [
    {
     "data": {
      "text/plain": [
       "10000"
      ]
     },
     "execution_count": 16,
     "metadata": {},
     "output_type": "execute_result"
    }
   ],
   "source": [
    "m1.p"
   ]
  },
  {
   "cell_type": "code",
   "execution_count": 17,
   "id": "aff7d6a1",
   "metadata": {},
   "outputs": [
    {
     "data": {
      "text/plain": [
       "'MI 9'"
      ]
     },
     "execution_count": 17,
     "metadata": {},
     "output_type": "execute_result"
    }
   ],
   "source": [
    "m1.m"
   ]
  },
  {
   "cell_type": "code",
   "execution_count": 18,
   "id": "e7e53c5e",
   "metadata": {},
   "outputs": [],
   "source": [
    "m2 = MobilePhone(60000,'Samsung S 10')"
   ]
  },
  {
   "cell_type": "code",
   "execution_count": 50,
   "id": "17bbaeac",
   "metadata": {},
   "outputs": [],
   "source": [
    "#variable = attribute\n",
    "#function = method\n",
    "\n",
    "class Bank:\n",
    "    \n",
    "    #class atrubute/object attribute\n",
    "    Bank_name = 'SBI' # class attribute\n",
    "    \n",
    "    def __init__(self,branch,employees):\n",
    "        \n",
    "        self.branch = branch\n",
    "        self.employees = employees\n",
    "        \n",
    "    def acc_opening(self):        \n",
    "        print(\"Bank has digitalized account opening process\")"
   ]
  },
  {
   "cell_type": "code",
   "execution_count": 51,
   "id": "1d31cb32",
   "metadata": {},
   "outputs": [],
   "source": [
    "b1 = Bank('Andheri',10)\n",
    "b2 = Bank('Thane',12)"
   ]
  },
  {
   "cell_type": "code",
   "execution_count": 52,
   "id": "15be30a7",
   "metadata": {},
   "outputs": [
    {
     "data": {
      "text/plain": [
       "'SBI'"
      ]
     },
     "execution_count": 52,
     "metadata": {},
     "output_type": "execute_result"
    }
   ],
   "source": [
    "b1.Bank_name"
   ]
  },
  {
   "cell_type": "code",
   "execution_count": 53,
   "id": "5ab8341a",
   "metadata": {},
   "outputs": [
    {
     "data": {
      "text/plain": [
       "10"
      ]
     },
     "execution_count": 53,
     "metadata": {},
     "output_type": "execute_result"
    }
   ],
   "source": [
    "b1.employees"
   ]
  },
  {
   "cell_type": "code",
   "execution_count": 54,
   "id": "3677e653",
   "metadata": {},
   "outputs": [
    {
     "name": "stdout",
     "output_type": "stream",
     "text": [
      "Bank has digitalized account opening process\n"
     ]
    }
   ],
   "source": [
    "#b1.acc_opening\n",
    "b1.acc_opening()"
   ]
  },
  {
   "cell_type": "code",
   "execution_count": 26,
   "id": "8d2cd96e",
   "metadata": {},
   "outputs": [
    {
     "data": {
      "text/plain": [
       "'SBI'"
      ]
     },
     "execution_count": 26,
     "metadata": {},
     "output_type": "execute_result"
    }
   ],
   "source": [
    "b2.Bank_name"
   ]
  },
  {
   "cell_type": "code",
   "execution_count": 55,
   "id": "a2e83641",
   "metadata": {},
   "outputs": [],
   "source": [
    "#accessing a value from __init__ --> use self\n",
    "class Bank:\n",
    "    \n",
    "    Bank_name = 'SBI' # class attribute\n",
    "    \n",
    "    def __init__(self,branch,employees,acc):\n",
    "        \n",
    "        self.branch = branch\n",
    "        self.employees = employees\n",
    "        self.accounts = acc\n",
    "        \n",
    "    def acc_opening(self):        \n",
    "        print(\"Bank has digitalized account opening process and opened {} accounts\".format(self.accounts))"
   ]
  },
  {
   "cell_type": "code",
   "execution_count": 56,
   "id": "fae7eb7d",
   "metadata": {},
   "outputs": [],
   "source": [
    "b3 = Bank('Dadar',20,1200)"
   ]
  },
  {
   "cell_type": "code",
   "execution_count": 57,
   "id": "3e9d639c",
   "metadata": {},
   "outputs": [
    {
     "name": "stdout",
     "output_type": "stream",
     "text": [
      "1200\n",
      "Bank has digitalized account opening process and opened 1200 accounts\n"
     ]
    }
   ],
   "source": [
    "print(b3.accounts)\n",
    "b3.acc_opening()"
   ]
  },
  {
   "cell_type": "code",
   "execution_count": 58,
   "id": "4884c995",
   "metadata": {},
   "outputs": [],
   "source": [
    "#passing a value in a method from outside --> no need to use self\n",
    "class Bank:\n",
    "    \n",
    "    Bank_name = 'SBI' # class attribute\n",
    "    \n",
    "    def __init__(self,branch,employees):\n",
    "        \n",
    "        self.branch = branch\n",
    "        self.employees = employees\n",
    "        \n",
    "    def acc_opening(self,accounts):        \n",
    "        print(\"Bank has digitalized account opening process and opened {} accounts\".format(accounts))"
   ]
  },
  {
   "cell_type": "code",
   "execution_count": 59,
   "id": "adbf29cd",
   "metadata": {},
   "outputs": [],
   "source": [
    "b5 = Bank('Churchgate',25)"
   ]
  },
  {
   "cell_type": "code",
   "execution_count": 60,
   "id": "6e21fc97",
   "metadata": {},
   "outputs": [
    {
     "name": "stdout",
     "output_type": "stream",
     "text": [
      "Bank has digitalized account opening process and opened 15000 accounts\n"
     ]
    }
   ],
   "source": [
    "b5.acc_opening(15000)"
   ]
  },
  {
   "cell_type": "code",
   "execution_count": 63,
   "id": "d1f9c91b",
   "metadata": {},
   "outputs": [],
   "source": [
    "class circle:\n",
    "    \n",
    "    pi = 3.14\n",
    "    \n",
    "    def __init__(self,radius=1):\n",
    "        self.radius = radius\n",
    "        \n",
    "    def perimeter(self):\n",
    "        print('Circumference of the Circle is :  ',2*self.pi*self.radius)"
   ]
  },
  {
   "cell_type": "code",
   "execution_count": 64,
   "id": "f273fc05",
   "metadata": {},
   "outputs": [
    {
     "name": "stdout",
     "output_type": "stream",
     "text": [
      "Circumference of the Circle is :   6.28\n"
     ]
    }
   ],
   "source": [
    "c1 = circle()\n",
    "c1.perimeter()"
   ]
  },
  {
   "cell_type": "code",
   "execution_count": 65,
   "id": "a38c6405",
   "metadata": {},
   "outputs": [
    {
     "name": "stdout",
     "output_type": "stream",
     "text": [
      "Circumference of the Circle is :   62.800000000000004\n"
     ]
    }
   ],
   "source": [
    "c2 = circle(10)\n",
    "c2.perimeter()"
   ]
  },
  {
   "cell_type": "markdown",
   "id": "7d31b7cd",
   "metadata": {},
   "source": [
    "Write a program which has a class 'Calculate' and it does two mathematical operations\n",
    "\n",
    "1. Calculates the distance between two input data points (x1,y1) and (x2,y2)\n",
    "2. Calculates slope between two input data points (x1,y1) and (x2,y2)"
   ]
  },
  {
   "cell_type": "code",
   "execution_count": 68,
   "id": "c929e440",
   "metadata": {},
   "outputs": [],
   "source": [
    "class calculate():\n",
    "    \n",
    "    def __init__(self,x1y1,x2y2):\n",
    "        self.x1y1 = x1y1\n",
    "        self.x2y2 = x2y2\n",
    "        \n",
    "    def calc_distanc(self):\n",
    "        x1,y1 = self.x1y1\n",
    "        x2,y2 = self.x2y2\n",
    "        \n",
    "        return ((y2-y1)**2 + (x2-x1)**2)**0.5\n",
    "\n",
    "    def calc_slope(self):\n",
    "        x1,y1 = self.x1y1\n",
    "        x2,y2 = self.x2y2\n",
    "        \n",
    "        return (y2-y1)/(x2-x1)"
   ]
  },
  {
   "cell_type": "code",
   "execution_count": 69,
   "id": "18e773da",
   "metadata": {},
   "outputs": [],
   "source": [
    "c1 = (-1,12)\n",
    "c2 = (22,10)\n",
    "\n",
    "obj1 = calculate(c1,c2)"
   ]
  },
  {
   "cell_type": "code",
   "execution_count": 70,
   "id": "7fe62200",
   "metadata": {},
   "outputs": [
    {
     "data": {
      "text/plain": [
       "23.08679276123039"
      ]
     },
     "execution_count": 70,
     "metadata": {},
     "output_type": "execute_result"
    }
   ],
   "source": [
    "obj1.calc_distanc()"
   ]
  },
  {
   "cell_type": "code",
   "execution_count": 71,
   "id": "fd0b02c4",
   "metadata": {},
   "outputs": [
    {
     "data": {
      "text/plain": [
       "-0.08695652173913043"
      ]
     },
     "execution_count": 71,
     "metadata": {},
     "output_type": "execute_result"
    }
   ],
   "source": [
    "obj1.calc_slope()"
   ]
  },
  {
   "cell_type": "code",
   "execution_count": 79,
   "id": "fd6b5da8",
   "metadata": {},
   "outputs": [],
   "source": [
    "from calculate_script import calculate"
   ]
  },
  {
   "cell_type": "code",
   "execution_count": 80,
   "id": "b8fed70e",
   "metadata": {},
   "outputs": [],
   "source": [
    "c1 = (-1,22)\n",
    "c2 = (12,20)\n",
    "\n",
    "obj2 = calculate(c1,c2)"
   ]
  },
  {
   "cell_type": "code",
   "execution_count": 82,
   "id": "71c18506",
   "metadata": {},
   "outputs": [
    {
     "data": {
      "text/plain": [
       "13.152946437965905"
      ]
     },
     "execution_count": 82,
     "metadata": {},
     "output_type": "execute_result"
    }
   ],
   "source": [
    "obj1.calc_distanc()"
   ]
  },
  {
   "cell_type": "code",
   "execution_count": 83,
   "id": "f8791de2",
   "metadata": {},
   "outputs": [
    {
     "data": {
      "text/plain": [
       "-0.15384615384615385"
      ]
     },
     "execution_count": 83,
     "metadata": {},
     "output_type": "execute_result"
    }
   ],
   "source": [
    "obj1.calc_slope()"
   ]
  },
  {
   "cell_type": "code",
   "execution_count": 84,
   "id": "9497f146",
   "metadata": {},
   "outputs": [],
   "source": [
    "import numpy as np # loaded with mathematical functions and opertions\n",
    "import time"
   ]
  },
  {
   "cell_type": "code",
   "execution_count": 92,
   "id": "9ad60c98",
   "metadata": {},
   "outputs": [
    {
     "name": "stdout",
     "output_type": "stream",
     "text": [
      "Time for Python List in msec:  8.080451965332031\n",
      "Time for NumPy array in msec:  1.071012258529663\n"
     ]
    }
   ],
   "source": [
    "#let's declare the size\n",
    "Size = 100000000\n",
    "\n",
    "# Creating two lists\n",
    "list1 = range(Size)\n",
    "list2 = range(Size)\n",
    "\n",
    "# Creating two NumPy arrays\n",
    "arr1 = np.arange(Size)\n",
    "arr2 = np.arange(Size)\n",
    "\n",
    "# Calculating time for Python list\n",
    "start = time.time()\n",
    "result1 = [(x + y) for x, y in zip(list1, list2)]\n",
    "\n",
    "print(\"Time for Python List in msec: \", (time.time() - start) )\n",
    "\n",
    "# Calculating time for NumPy array\n",
    "start = time.time()\n",
    "result2 = (arr1 + arr2)\n",
    "\n",
    "print(\"Time for NumPy array in msec: \", (time.time()- start) )"
   ]
  },
  {
   "cell_type": "code",
   "execution_count": 108,
   "id": "81467c02",
   "metadata": {},
   "outputs": [
    {
     "name": "stdout",
     "output_type": "stream",
     "text": [
      "X -->  1   Y --> 2\n",
      "X -->  1   Y --> 2\n"
     ]
    }
   ],
   "source": [
    "for x, y in zip((1,1), (2,2)):    \n",
    "    print('X --> ',x,'  Y -->',y)"
   ]
  },
  {
   "cell_type": "code",
   "execution_count": 93,
   "id": "21282a42",
   "metadata": {},
   "outputs": [],
   "source": [
    "#defining a numpy array\n",
    "intarray = np.array([1,2,3,4,5,6],int)"
   ]
  },
  {
   "cell_type": "code",
   "execution_count": 94,
   "id": "92ef1ccb",
   "metadata": {},
   "outputs": [
    {
     "data": {
      "text/plain": [
       "numpy.ndarray"
      ]
     },
     "execution_count": 94,
     "metadata": {},
     "output_type": "execute_result"
    }
   ],
   "source": [
    "type(intarray)"
   ]
  },
  {
   "cell_type": "code",
   "execution_count": 95,
   "id": "4af3882b",
   "metadata": {
    "scrolled": false
   },
   "outputs": [
    {
     "data": {
      "text/plain": [
       "array([1, 2, 3, 4, 5, 6])"
      ]
     },
     "execution_count": 95,
     "metadata": {},
     "output_type": "execute_result"
    }
   ],
   "source": [
    "intarray"
   ]
  },
  {
   "cell_type": "code",
   "execution_count": 97,
   "id": "17d4b3a8",
   "metadata": {
    "collapsed": true
   },
   "outputs": [
    {
     "data": {
      "text/plain": [
       "3"
      ]
     },
     "execution_count": 97,
     "metadata": {},
     "output_type": "execute_result"
    }
   ],
   "source": [
    "intarray[2]"
   ]
  },
  {
   "cell_type": "code",
   "execution_count": 98,
   "id": "6adacec8",
   "metadata": {},
   "outputs": [
    {
     "data": {
      "text/plain": [
       "array([1, 2])"
      ]
     },
     "execution_count": 98,
     "metadata": {},
     "output_type": "execute_result"
    }
   ],
   "source": [
    "#slicing\n",
    "intarray[ : 2]"
   ]
  },
  {
   "cell_type": "code",
   "execution_count": 99,
   "id": "80938612",
   "metadata": {},
   "outputs": [],
   "source": [
    "intarray1 = np.array([1,2,3,4,5,6],int)\n",
    "intarray2 = np.array([17,16],int)"
   ]
  },
  {
   "cell_type": "code",
   "execution_count": 100,
   "id": "f5276a49",
   "metadata": {},
   "outputs": [
    {
     "data": {
      "text/plain": [
       "array([ 1,  2,  3,  4,  5,  6, 17, 16])"
      ]
     },
     "execution_count": 100,
     "metadata": {},
     "output_type": "execute_result"
    }
   ],
   "source": [
    "np.concatenate((intarray1,intarray2))"
   ]
  },
  {
   "cell_type": "code",
   "execution_count": 101,
   "id": "cfff509d",
   "metadata": {},
   "outputs": [
    {
     "data": {
      "text/plain": [
       "array([0., 0., 0., 0., 0., 0., 0., 0., 0., 0.])"
      ]
     },
     "execution_count": 101,
     "metadata": {},
     "output_type": "execute_result"
    }
   ],
   "source": [
    "np.zeros(10)"
   ]
  },
  {
   "cell_type": "code",
   "execution_count": 102,
   "id": "3e275e53",
   "metadata": {},
   "outputs": [
    {
     "data": {
      "text/plain": [
       "array([1., 1., 1., 1., 1., 1., 1., 1., 1., 1.])"
      ]
     },
     "execution_count": 102,
     "metadata": {},
     "output_type": "execute_result"
    }
   ],
   "source": [
    "np.ones(10)"
   ]
  },
  {
   "cell_type": "code",
   "execution_count": 104,
   "id": "790255ea",
   "metadata": {},
   "outputs": [
    {
     "data": {
      "text/plain": [
       "array([ 0,  5, 10, 15, 20, 25, 30, 35, 40, 45])"
      ]
     },
     "execution_count": 104,
     "metadata": {},
     "output_type": "execute_result"
    }
   ],
   "source": [
    "np.arange(0,50,5)"
   ]
  },
  {
   "cell_type": "code",
   "execution_count": 106,
   "id": "c5f8d14f",
   "metadata": {},
   "outputs": [
    {
     "data": {
      "text/plain": [
       "array([0, 1, 2, 3, 4, 5, 6, 7, 8, 9])"
      ]
     },
     "execution_count": 106,
     "metadata": {},
     "output_type": "execute_result"
    }
   ],
   "source": [
    "#Array of range of numbers\n",
    "rangearray = np.array(np.arange(10))\n",
    "rangearray"
   ]
  },
  {
   "cell_type": "code",
   "execution_count": 109,
   "id": "0eeb52f7",
   "metadata": {},
   "outputs": [
    {
     "data": {
      "text/plain": [
       "array([[1., 2., 3.],\n",
       "       [4., 5., 6.]])"
      ]
     },
     "execution_count": 109,
     "metadata": {},
     "output_type": "execute_result"
    }
   ],
   "source": [
    "floatarray = np.array([[1,2,3],[4,5,6]], float)\n",
    "floatarray"
   ]
  },
  {
   "cell_type": "code",
   "execution_count": 110,
   "id": "8a4a7682",
   "metadata": {},
   "outputs": [
    {
     "data": {
      "text/plain": [
       "(2, 3)"
      ]
     },
     "execution_count": 110,
     "metadata": {},
     "output_type": "execute_result"
    }
   ],
   "source": [
    "#check the dimesnsion using shape\n",
    "floatarray.shape"
   ]
  },
  {
   "cell_type": "code",
   "execution_count": 112,
   "id": "3f4c2c78",
   "metadata": {},
   "outputs": [
    {
     "data": {
      "text/plain": [
       "(10,)"
      ]
     },
     "execution_count": 112,
     "metadata": {},
     "output_type": "execute_result"
    }
   ],
   "source": [
    "rangearray.shape"
   ]
  },
  {
   "cell_type": "code",
   "execution_count": 114,
   "id": "5c784de4",
   "metadata": {
    "collapsed": true
   },
   "outputs": [
    {
     "data": {
      "text/plain": [
       "array([[0, 1],\n",
       "       [2, 3],\n",
       "       [4, 5],\n",
       "       [6, 7],\n",
       "       [8, 9]])"
      ]
     },
     "execution_count": 114,
     "metadata": {},
     "output_type": "execute_result"
    }
   ],
   "source": [
    "#change the dimension of an array using reshape\n",
    "rangearray = rangearray.reshape(5,2)\n",
    "rangearray"
   ]
  },
  {
   "cell_type": "code",
   "execution_count": 115,
   "id": "163ec72f",
   "metadata": {},
   "outputs": [
    {
     "data": {
      "text/plain": [
       "array([0, 1, 2, 3, 4, 5, 6, 7, 8, 9])"
      ]
     },
     "execution_count": 115,
     "metadata": {},
     "output_type": "execute_result"
    }
   ],
   "source": [
    "#restore into one dimesion\n",
    "rangearray = rangearray.flatten()\n",
    "rangearray"
   ]
  },
  {
   "cell_type": "code",
   "execution_count": 116,
   "id": "086a8c9e",
   "metadata": {},
   "outputs": [
    {
     "name": "stdout",
     "output_type": "stream",
     "text": [
      "[[1 2]\n",
      " [3 4]] \n",
      "\n",
      "[[11 12]\n",
      " [13 14]] \n",
      "\n"
     ]
    }
   ],
   "source": [
    "arr1 = np.array([[1,2],[3,4]],int)\n",
    "arr2 = np.array([[11,12],[13,14]],int)\n",
    "print(arr1,'\\n')\n",
    "print(arr2,'\\n')"
   ]
  },
  {
   "cell_type": "code",
   "execution_count": 117,
   "id": "66f0b414",
   "metadata": {},
   "outputs": [
    {
     "data": {
      "text/plain": [
       "array([[12, 14],\n",
       "       [16, 18]])"
      ]
     },
     "execution_count": 117,
     "metadata": {},
     "output_type": "execute_result"
    }
   ],
   "source": [
    "arr1 + arr2"
   ]
  },
  {
   "cell_type": "code",
   "execution_count": 118,
   "id": "1374e0de",
   "metadata": {},
   "outputs": [
    {
     "data": {
      "text/plain": [
       "array([[11, 24],\n",
       "       [39, 56]])"
      ]
     },
     "execution_count": 118,
     "metadata": {},
     "output_type": "execute_result"
    }
   ],
   "source": [
    "arr1*arr2"
   ]
  },
  {
   "cell_type": "code",
   "execution_count": 119,
   "id": "e65a4155",
   "metadata": {},
   "outputs": [
    {
     "data": {
      "text/plain": [
       "array([[2.39789527, 2.48490665],\n",
       "       [2.56494936, 2.63905733]])"
      ]
     },
     "execution_count": 119,
     "metadata": {},
     "output_type": "execute_result"
    }
   ],
   "source": [
    "np.log(arr2)"
   ]
  },
  {
   "cell_type": "code",
   "execution_count": 120,
   "id": "0f70f812",
   "metadata": {},
   "outputs": [
    {
     "data": {
      "text/plain": [
       "array([[1.        , 1.41421356],\n",
       "       [1.73205081, 2.        ]])"
      ]
     },
     "execution_count": 120,
     "metadata": {},
     "output_type": "execute_result"
    }
   ],
   "source": [
    "np.sqrt(arr1)"
   ]
  },
  {
   "cell_type": "code",
   "execution_count": 121,
   "id": "1f4f4d06",
   "metadata": {},
   "outputs": [
    {
     "data": {
      "text/plain": [
       "10"
      ]
     },
     "execution_count": 121,
     "metadata": {},
     "output_type": "execute_result"
    }
   ],
   "source": [
    "arr1.sum()"
   ]
  },
  {
   "cell_type": "code",
   "execution_count": 123,
   "id": "0bddee1b",
   "metadata": {},
   "outputs": [
    {
     "data": {
      "text/plain": [
       "14"
      ]
     },
     "execution_count": 123,
     "metadata": {},
     "output_type": "execute_result"
    }
   ],
   "source": [
    "arr2.max()"
   ]
  },
  {
   "cell_type": "code",
   "execution_count": 124,
   "id": "c8cce26a",
   "metadata": {},
   "outputs": [
    {
     "data": {
      "text/plain": [
       "12.5"
      ]
     },
     "execution_count": 124,
     "metadata": {},
     "output_type": "execute_result"
    }
   ],
   "source": [
    "arr2.mean()"
   ]
  },
  {
   "cell_type": "code",
   "execution_count": 125,
   "id": "c57aa237",
   "metadata": {},
   "outputs": [
    {
     "data": {
      "text/plain": [
       "1.118033988749895"
      ]
     },
     "execution_count": 125,
     "metadata": {},
     "output_type": "execute_result"
    }
   ],
   "source": [
    "arr2.std() #standard deviation"
   ]
  },
  {
   "cell_type": "code",
   "execution_count": 127,
   "id": "3503a794",
   "metadata": {},
   "outputs": [],
   "source": [
    "arr3 = np.array([1,2,1,4,5,6,6,7])"
   ]
  },
  {
   "cell_type": "code",
   "execution_count": 128,
   "id": "dd4d0155",
   "metadata": {},
   "outputs": [
    {
     "data": {
      "text/plain": [
       "array([1, 2, 4, 5, 6, 7])"
      ]
     },
     "execution_count": 128,
     "metadata": {},
     "output_type": "execute_result"
    }
   ],
   "source": [
    "np.unique(arr3)"
   ]
  },
  {
   "cell_type": "code",
   "execution_count": 129,
   "id": "17e6805e",
   "metadata": {},
   "outputs": [
    {
     "data": {
      "text/plain": [
       "array([1, 1, 2, 4, 5, 6, 6, 7])"
      ]
     },
     "execution_count": 129,
     "metadata": {},
     "output_type": "execute_result"
    }
   ],
   "source": [
    "np.sort(arr3)"
   ]
  },
  {
   "cell_type": "code",
   "execution_count": 131,
   "id": "20bce2cd",
   "metadata": {},
   "outputs": [],
   "source": [
    "np.unique?"
   ]
  },
  {
   "cell_type": "code",
   "execution_count": 135,
   "id": "2fe62943",
   "metadata": {},
   "outputs": [],
   "source": [
    "a = np.array(['a', 'b', 'b', 'c', 'a'])\n",
    "x, y = np.unique(a, return_index=True)"
   ]
  },
  {
   "cell_type": "code",
   "execution_count": 133,
   "id": "8f09181a",
   "metadata": {},
   "outputs": [
    {
     "data": {
      "text/plain": [
       "array(['a', 'b', 'c'], dtype='<U1')"
      ]
     },
     "execution_count": 133,
     "metadata": {},
     "output_type": "execute_result"
    }
   ],
   "source": [
    "x"
   ]
  },
  {
   "cell_type": "code",
   "execution_count": 136,
   "id": "581fe85c",
   "metadata": {},
   "outputs": [
    {
     "data": {
      "text/plain": [
       "array([0, 1, 3])"
      ]
     },
     "execution_count": 136,
     "metadata": {},
     "output_type": "execute_result"
    }
   ],
   "source": [
    "y"
   ]
  },
  {
   "cell_type": "code",
   "execution_count": null,
   "id": "03345bf4",
   "metadata": {},
   "outputs": [],
   "source": []
  }
 ],
 "metadata": {
  "kernelspec": {
   "display_name": "Python 3",
   "language": "python",
   "name": "python3"
  },
  "language_info": {
   "codemirror_mode": {
    "name": "ipython",
    "version": 3
   },
   "file_extension": ".py",
   "mimetype": "text/x-python",
   "name": "python",
   "nbconvert_exporter": "python",
   "pygments_lexer": "ipython3",
   "version": "3.8.8"
  }
 },
 "nbformat": 4,
 "nbformat_minor": 5
}
