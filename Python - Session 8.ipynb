{
 "cells": [
  {
   "cell_type": "code",
   "execution_count": null,
   "id": "52165186",
   "metadata": {},
   "outputs": [],
   "source": [
    "1. How to create a LR model\n",
    "2. A real life use case\n",
    "3. Multiple Linear Regression"
   ]
  },
  {
   "cell_type": "code",
   "execution_count": null,
   "id": "13f3fa3a",
   "metadata": {},
   "outputs": [],
   "source": [
    "#what Linear Regression means\n",
    "y = mx + c\n",
    "\n",
    "Y = m1x1 + m2x2 + m3x3 + .. + c"
   ]
  },
  {
   "cell_type": "code",
   "execution_count": 83,
   "id": "f180e0d5",
   "metadata": {},
   "outputs": [],
   "source": [
    "import numpy as np\n",
    "from sklearn.linear_model import LinearRegression\n",
    "import matplotlib.pyplot as plt\n",
    "import pandas as pd"
   ]
  },
  {
   "cell_type": "code",
   "execution_count": 94,
   "id": "3cbbc46c",
   "metadata": {},
   "outputs": [],
   "source": [
    "# Create two numpy arrays of same length\n",
    "\n",
    "x = np.array([10,40,26,30,55,18,7]).reshape(-1,1)\n",
    "y = np.array([5,30,22,45,60,34,19])"
   ]
  },
  {
   "cell_type": "code",
   "execution_count": 95,
   "id": "442b5e65",
   "metadata": {},
   "outputs": [
    {
     "name": "stdout",
     "output_type": "stream",
     "text": [
      "(7, 1)\n",
      "(7,)\n"
     ]
    }
   ],
   "source": [
    "print(x.shape)\n",
    "print(y.shape)"
   ]
  },
  {
   "cell_type": "code",
   "execution_count": 96,
   "id": "3b92e413",
   "metadata": {},
   "outputs": [
    {
     "data": {
      "image/png": "[encoded data removed]",
      "text/plain": [
       "<Figure size 432x288 with 1 Axes>"
      ]
     },
     "metadata": {
      "needs_background": "light"
     },
     "output_type": "display_data"
    }
   ],
   "source": [
    "#plotting the data\n",
    "plt.scatter(x,y)\n",
    "plt.show()"
   ]
  },
  {
   "cell_type": "code",
   "execution_count": 97,
   "id": "20a5609f",
   "metadata": {},
   "outputs": [],
   "source": [
    "# create an object of Linear Regression class'\n",
    "model = LinearRegression()"
   ]
  },
  {
   "cell_type": "code",
   "execution_count": 98,
   "id": "1a40d073",
   "metadata": {},
   "outputs": [
    {
     "data": {
      "text/plain": [
       "LinearRegression()"
      ]
     },
     "execution_count": 98,
     "metadata": {},
     "output_type": "execute_result"
    }
   ],
   "source": [
    "#we are going to call the fit() method\n",
    "# this method finds the line of best fit and gives us it's details\n",
    "model.fit(x,y)"
   ]
  },
  {
   "cell_type": "code",
   "execution_count": 99,
   "id": "8543afa5",
   "metadata": {},
   "outputs": [
    {
     "name": "stdout",
     "output_type": "stream",
     "text": [
      "Slope of the line (m)  :   [0.86858604]\n",
      "Intercept of the line (c)  :   7.634713743606667\n"
     ]
    }
   ],
   "source": [
    "#fetching the intercept and slope of the linear model\n",
    "\n",
    "intercept = model.intercept_\n",
    "slope = model.coef_\n",
    "\n",
    "print(\"Slope of the line (m)  :  \",slope)\n",
    "print(\"Intercept of the line (c)  :  \",intercept)"
   ]
  },
  {
   "cell_type": "code",
   "execution_count": 100,
   "id": "7c12671c",
   "metadata": {},
   "outputs": [
    {
     "data": {
      "text/plain": [
       "array([[16.32057416],\n",
       "       [42.37815542],\n",
       "       [30.21795083],\n",
       "       [33.692295  ],\n",
       "       [55.40694605],\n",
       "       [23.2692625 ],\n",
       "       [13.71481604]])"
      ]
     },
     "execution_count": 100,
     "metadata": {},
     "output_type": "execute_result"
    }
   ],
   "source": [
    "#create our regression equation\n",
    "y_pred = slope*x + intercept\n",
    "y_pred"
   ]
  },
  {
   "cell_type": "code",
   "execution_count": 101,
   "id": "df44ac29",
   "metadata": {},
   "outputs": [
    {
     "data": {
      "image/png": "[encoded data removed]",
      "text/plain": [
       "<Figure size 432x288 with 1 Axes>"
      ]
     },
     "metadata": {
      "needs_background": "light"
     },
     "output_type": "display_data"
    }
   ],
   "source": [
    "#plotting the data\n",
    "plt.plot(x,y_pred)\n",
    "plt.scatter(x,y)\n",
    "plt.show()"
   ]
  },
  {
   "cell_type": "code",
   "execution_count": 102,
   "id": "6a72b6c8",
   "metadata": {},
   "outputs": [
    {
     "name": "stdout",
     "output_type": "stream",
     "text": [
      "R Squared :  0.6708731246509468\n",
      "Mean Absolute Error :  9.119051547363709\n",
      "Mean Squared Error :  91.564440097108\n",
      "Root Mean Squared Error :  9.56893097984869\n"
     ]
    }
   ],
   "source": [
    "print('R Squared : ',metrics.r2_score(y,y_pred))\n",
    "\n",
    "print('Mean Absolute Error : ',metrics.mean_absolute_error(y,y_pred))\n",
    "\n",
    "print('Mean Squared Error : ',metrics.mean_squared_error(y,y_pred))\n",
    "\n",
    "print('Root Mean Squared Error : ',np.sqrt(metrics.mean_squared_error(y,y_pred)))"
   ]
  },
  {
   "cell_type": "markdown",
   "id": "10894b98",
   "metadata": {},
   "source": [
    "#### Real World Use Case\n",
    "\n",
    "Predicting the Rank based on Goal Difference"
   ]
  },
  {
   "cell_type": "code",
   "execution_count": 35,
   "id": "54f2ba35",
   "metadata": {
    "collapsed": true
   },
   "outputs": [
    {
     "data": {
      "text/html": [
       "<div>\n",
       "<style scoped>\n",
       "    .dataframe tbody tr th:only-of-type {\n",
       "        vertical-align: middle;\n",
       "    }\n",
       "\n",
       "    .dataframe tbody tr th {\n",
       "        vertical-align: top;\n",
       "    }\n",
       "\n",
       "    .dataframe thead th {\n",
       "        text-align: right;\n",
       "    }\n",
       "</style>\n",
       "<table border=\"1\" class=\"dataframe\">\n",
       "  <thead>\n",
       "    <tr style=\"text-align: right;\">\n",
       "      <th></th>\n",
       "      <th>Rk</th>\n",
       "      <th>Squad</th>\n",
       "      <th>MP</th>\n",
       "      <th>W</th>\n",
       "      <th>D</th>\n",
       "      <th>L</th>\n",
       "      <th>GF</th>\n",
       "      <th>GA</th>\n",
       "      <th>Pts</th>\n",
       "      <th>Attendance</th>\n",
       "      <th>Top Team Scorer</th>\n",
       "      <th>Goalkeeper</th>\n",
       "      <th>Year</th>\n",
       "    </tr>\n",
       "  </thead>\n",
       "  <tbody>\n",
       "    <tr>\n",
       "      <th>0</th>\n",
       "      <td>1</td>\n",
       "      <td>Manchester Utd</td>\n",
       "      <td>38</td>\n",
       "      <td>25</td>\n",
       "      <td>7</td>\n",
       "      <td>6</td>\n",
       "      <td>73</td>\n",
       "      <td>35</td>\n",
       "      <td>82</td>\n",
       "      <td>41001</td>\n",
       "      <td>Eric Cantona - 14</td>\n",
       "      <td>Peter Schmeichel</td>\n",
       "      <td>1996</td>\n",
       "    </tr>\n",
       "    <tr>\n",
       "      <th>1</th>\n",
       "      <td>2</td>\n",
       "      <td>Newcastle Utd</td>\n",
       "      <td>38</td>\n",
       "      <td>24</td>\n",
       "      <td>6</td>\n",
       "      <td>8</td>\n",
       "      <td>66</td>\n",
       "      <td>37</td>\n",
       "      <td>78</td>\n",
       "      <td>36501</td>\n",
       "      <td>Les Ferdinand - 25</td>\n",
       "      <td>Shaka Hislop</td>\n",
       "      <td>1996</td>\n",
       "    </tr>\n",
       "    <tr>\n",
       "      <th>2</th>\n",
       "      <td>3</td>\n",
       "      <td>Liverpool</td>\n",
       "      <td>38</td>\n",
       "      <td>20</td>\n",
       "      <td>11</td>\n",
       "      <td>7</td>\n",
       "      <td>70</td>\n",
       "      <td>34</td>\n",
       "      <td>71</td>\n",
       "      <td>39553</td>\n",
       "      <td>Robbie Fowler - 28</td>\n",
       "      <td>David James</td>\n",
       "      <td>1996</td>\n",
       "    </tr>\n",
       "    <tr>\n",
       "      <th>3</th>\n",
       "      <td>4</td>\n",
       "      <td>Aston Villa</td>\n",
       "      <td>38</td>\n",
       "      <td>18</td>\n",
       "      <td>9</td>\n",
       "      <td>11</td>\n",
       "      <td>52</td>\n",
       "      <td>35</td>\n",
       "      <td>63</td>\n",
       "      <td>37492</td>\n",
       "      <td>Dwight Yorke - 17</td>\n",
       "      <td>Mark Bosnich</td>\n",
       "      <td>1996</td>\n",
       "    </tr>\n",
       "    <tr>\n",
       "      <th>4</th>\n",
       "      <td>5</td>\n",
       "      <td>Arsenal</td>\n",
       "      <td>38</td>\n",
       "      <td>17</td>\n",
       "      <td>12</td>\n",
       "      <td>9</td>\n",
       "      <td>49</td>\n",
       "      <td>32</td>\n",
       "      <td>63</td>\n",
       "      <td>32614</td>\n",
       "      <td>Ian Wright - 15</td>\n",
       "      <td>David Seaman</td>\n",
       "      <td>1996</td>\n",
       "    </tr>\n",
       "    <tr>\n",
       "      <th>...</th>\n",
       "      <td>...</td>\n",
       "      <td>...</td>\n",
       "      <td>...</td>\n",
       "      <td>...</td>\n",
       "      <td>...</td>\n",
       "      <td>...</td>\n",
       "      <td>...</td>\n",
       "      <td>...</td>\n",
       "      <td>...</td>\n",
       "      <td>...</td>\n",
       "      <td>...</td>\n",
       "      <td>...</td>\n",
       "      <td>...</td>\n",
       "    </tr>\n",
       "    <tr>\n",
       "      <th>495</th>\n",
       "      <td>16</td>\n",
       "      <td>West Ham</td>\n",
       "      <td>38</td>\n",
       "      <td>10</td>\n",
       "      <td>9</td>\n",
       "      <td>19</td>\n",
       "      <td>49</td>\n",
       "      <td>62</td>\n",
       "      <td>39</td>\n",
       "      <td>44155</td>\n",
       "      <td>Michail Antonio - 10</td>\n",
       "      <td>Łukasz Fabiański</td>\n",
       "      <td>2020</td>\n",
       "    </tr>\n",
       "    <tr>\n",
       "      <th>496</th>\n",
       "      <td>17</td>\n",
       "      <td>Aston Villa</td>\n",
       "      <td>38</td>\n",
       "      <td>9</td>\n",
       "      <td>8</td>\n",
       "      <td>21</td>\n",
       "      <td>41</td>\n",
       "      <td>67</td>\n",
       "      <td>35</td>\n",
       "      <td>28505</td>\n",
       "      <td>Jack Grealish - 8</td>\n",
       "      <td>Tom Heaton</td>\n",
       "      <td>2020</td>\n",
       "    </tr>\n",
       "    <tr>\n",
       "      <th>497</th>\n",
       "      <td>18</td>\n",
       "      <td>Bournemouth</td>\n",
       "      <td>38</td>\n",
       "      <td>9</td>\n",
       "      <td>7</td>\n",
       "      <td>22</td>\n",
       "      <td>40</td>\n",
       "      <td>65</td>\n",
       "      <td>34</td>\n",
       "      <td>7745</td>\n",
       "      <td>Callum Wilson - 8</td>\n",
       "      <td>Aaron Ramsdale</td>\n",
       "      <td>2020</td>\n",
       "    </tr>\n",
       "    <tr>\n",
       "      <th>498</th>\n",
       "      <td>19</td>\n",
       "      <td>Watford</td>\n",
       "      <td>38</td>\n",
       "      <td>8</td>\n",
       "      <td>10</td>\n",
       "      <td>20</td>\n",
       "      <td>36</td>\n",
       "      <td>64</td>\n",
       "      <td>34</td>\n",
       "      <td>15353</td>\n",
       "      <td>Troy Deeney - 10</td>\n",
       "      <td>Ben Foster</td>\n",
       "      <td>2020</td>\n",
       "    </tr>\n",
       "    <tr>\n",
       "      <th>499</th>\n",
       "      <td>20</td>\n",
       "      <td>Norwich City</td>\n",
       "      <td>38</td>\n",
       "      <td>5</td>\n",
       "      <td>6</td>\n",
       "      <td>27</td>\n",
       "      <td>26</td>\n",
       "      <td>75</td>\n",
       "      <td>21</td>\n",
       "      <td>19913</td>\n",
       "      <td>Teemu Pukki - 11</td>\n",
       "      <td>Tim Krul</td>\n",
       "      <td>2020</td>\n",
       "    </tr>\n",
       "  </tbody>\n",
       "</table>\n",
       "<p>500 rows × 13 columns</p>\n",
       "</div>"
      ],
      "text/plain": [
       "     Rk           Squad  MP   W   D   L  GF  GA  Pts  Attendance  \\\n",
       "0     1  Manchester Utd  38  25   7   6  73  35   82       41001   \n",
       "1     2   Newcastle Utd  38  24   6   8  66  37   78       36501   \n",
       "2     3       Liverpool  38  20  11   7  70  34   71       39553   \n",
       "3     4     Aston Villa  38  18   9  11  52  35   63       37492   \n",
       "4     5         Arsenal  38  17  12   9  49  32   63       32614   \n",
       "..   ..             ...  ..  ..  ..  ..  ..  ..  ...         ...   \n",
       "495  16        West Ham  38  10   9  19  49  62   39       44155   \n",
       "496  17     Aston Villa  38   9   8  21  41  67   35       28505   \n",
       "497  18     Bournemouth  38   9   7  22  40  65   34        7745   \n",
       "498  19         Watford  38   8  10  20  36  64   34       15353   \n",
       "499  20    Norwich City  38   5   6  27  26  75   21       19913   \n",
       "\n",
       "          Top Team Scorer        Goalkeeper  Year  \n",
       "0       Eric Cantona - 14  Peter Schmeichel  1996  \n",
       "1      Les Ferdinand - 25      Shaka Hislop  1996  \n",
       "2      Robbie Fowler - 28       David James  1996  \n",
       "3       Dwight Yorke - 17      Mark Bosnich  1996  \n",
       "4         Ian Wright - 15      David Seaman  1996  \n",
       "..                    ...               ...   ...  \n",
       "495  Michail Antonio - 10  Łukasz Fabiański  2020  \n",
       "496     Jack Grealish - 8        Tom Heaton  2020  \n",
       "497     Callum Wilson - 8    Aaron Ramsdale  2020  \n",
       "498      Troy Deeney - 10        Ben Foster  2020  \n",
       "499      Teemu Pukki - 11          Tim Krul  2020  \n",
       "\n",
       "[500 rows x 13 columns]"
      ]
     },
     "execution_count": 35,
     "metadata": {},
     "output_type": "execute_result"
    }
   ],
   "source": [
    "df = pd.read_csv(\"https://raw.githubusercontent.com/Sreemanto/Python-Batch-Imarticus/main/Premier_League_Table.csv\")\n",
    "df"
   ]
  },
  {
   "cell_type": "code",
   "execution_count": 37,
   "id": "da43c928",
   "metadata": {
    "collapsed": true
   },
   "outputs": [
    {
     "data": {
      "text/html": [
       "<div>\n",
       "<style scoped>\n",
       "    .dataframe tbody tr th:only-of-type {\n",
       "        vertical-align: middle;\n",
       "    }\n",
       "\n",
       "    .dataframe tbody tr th {\n",
       "        vertical-align: top;\n",
       "    }\n",
       "\n",
       "    .dataframe thead th {\n",
       "        text-align: right;\n",
       "    }\n",
       "</style>\n",
       "<table border=\"1\" class=\"dataframe\">\n",
       "  <thead>\n",
       "    <tr style=\"text-align: right;\">\n",
       "      <th></th>\n",
       "      <th>Rk</th>\n",
       "      <th>Squad</th>\n",
       "      <th>MP</th>\n",
       "      <th>W</th>\n",
       "      <th>D</th>\n",
       "      <th>L</th>\n",
       "      <th>GF</th>\n",
       "      <th>GA</th>\n",
       "      <th>Pts</th>\n",
       "      <th>Attendance</th>\n",
       "      <th>Top Team Scorer</th>\n",
       "      <th>Goalkeeper</th>\n",
       "      <th>Year</th>\n",
       "      <th>Goal Difference</th>\n",
       "    </tr>\n",
       "  </thead>\n",
       "  <tbody>\n",
       "    <tr>\n",
       "      <th>0</th>\n",
       "      <td>1</td>\n",
       "      <td>Manchester Utd</td>\n",
       "      <td>38</td>\n",
       "      <td>25</td>\n",
       "      <td>7</td>\n",
       "      <td>6</td>\n",
       "      <td>73</td>\n",
       "      <td>35</td>\n",
       "      <td>82</td>\n",
       "      <td>41001</td>\n",
       "      <td>Eric Cantona - 14</td>\n",
       "      <td>Peter Schmeichel</td>\n",
       "      <td>1996</td>\n",
       "      <td>38</td>\n",
       "    </tr>\n",
       "    <tr>\n",
       "      <th>1</th>\n",
       "      <td>2</td>\n",
       "      <td>Newcastle Utd</td>\n",
       "      <td>38</td>\n",
       "      <td>24</td>\n",
       "      <td>6</td>\n",
       "      <td>8</td>\n",
       "      <td>66</td>\n",
       "      <td>37</td>\n",
       "      <td>78</td>\n",
       "      <td>36501</td>\n",
       "      <td>Les Ferdinand - 25</td>\n",
       "      <td>Shaka Hislop</td>\n",
       "      <td>1996</td>\n",
       "      <td>29</td>\n",
       "    </tr>\n",
       "    <tr>\n",
       "      <th>2</th>\n",
       "      <td>3</td>\n",
       "      <td>Liverpool</td>\n",
       "      <td>38</td>\n",
       "      <td>20</td>\n",
       "      <td>11</td>\n",
       "      <td>7</td>\n",
       "      <td>70</td>\n",
       "      <td>34</td>\n",
       "      <td>71</td>\n",
       "      <td>39553</td>\n",
       "      <td>Robbie Fowler - 28</td>\n",
       "      <td>David James</td>\n",
       "      <td>1996</td>\n",
       "      <td>36</td>\n",
       "    </tr>\n",
       "    <tr>\n",
       "      <th>3</th>\n",
       "      <td>4</td>\n",
       "      <td>Aston Villa</td>\n",
       "      <td>38</td>\n",
       "      <td>18</td>\n",
       "      <td>9</td>\n",
       "      <td>11</td>\n",
       "      <td>52</td>\n",
       "      <td>35</td>\n",
       "      <td>63</td>\n",
       "      <td>37492</td>\n",
       "      <td>Dwight Yorke - 17</td>\n",
       "      <td>Mark Bosnich</td>\n",
       "      <td>1996</td>\n",
       "      <td>17</td>\n",
       "    </tr>\n",
       "  </tbody>\n",
       "</table>\n",
       "</div>"
      ],
      "text/plain": [
       "   Rk           Squad  MP   W   D   L  GF  GA  Pts  Attendance  \\\n",
       "0   1  Manchester Utd  38  25   7   6  73  35   82       41001   \n",
       "1   2   Newcastle Utd  38  24   6   8  66  37   78       36501   \n",
       "2   3       Liverpool  38  20  11   7  70  34   71       39553   \n",
       "3   4     Aston Villa  38  18   9  11  52  35   63       37492   \n",
       "\n",
       "      Top Team Scorer        Goalkeeper  Year  Goal Difference  \n",
       "0   Eric Cantona - 14  Peter Schmeichel  1996               38  \n",
       "1  Les Ferdinand - 25      Shaka Hislop  1996               29  \n",
       "2  Robbie Fowler - 28       David James  1996               36  \n",
       "3   Dwight Yorke - 17      Mark Bosnich  1996               17  "
      ]
     },
     "execution_count": 37,
     "metadata": {},
     "output_type": "execute_result"
    }
   ],
   "source": [
    "#Feature Engineering\n",
    "df['Goal Difference'] = df['GF'] - df['GA']\n",
    "df.head(4)"
   ]
  },
  {
   "cell_type": "code",
   "execution_count": 55,
   "id": "2e74f4a6",
   "metadata": {
    "scrolled": true
   },
   "outputs": [],
   "source": [
    "y = df.Rk\n",
    "x = df['Goal Difference'].values.reshape(-1,1)"
   ]
  },
  {
   "cell_type": "code",
   "execution_count": 56,
   "id": "13001b1a",
   "metadata": {},
   "outputs": [
    {
     "name": "stdout",
     "output_type": "stream",
     "text": [
      "(500, 1)\n"
     ]
    }
   ],
   "source": [
    "print(x.shape)"
   ]
  },
  {
   "cell_type": "code",
   "execution_count": 57,
   "id": "68619e7a",
   "metadata": {},
   "outputs": [
    {
     "data": {
      "text/plain": [
       "LinearRegression()"
      ]
     },
     "execution_count": 57,
     "metadata": {},
     "output_type": "execute_result"
    }
   ],
   "source": [
    "lr = LinearRegression()\n",
    "lr.fit(x,y)"
   ]
  },
  {
   "cell_type": "code",
   "execution_count": 64,
   "id": "4e87283a",
   "metadata": {},
   "outputs": [
    {
     "name": "stdout",
     "output_type": "stream",
     "text": [
      "Slope of the line (m)  :   [-0.21341188]\n",
      "Intercept of the line (c)  :   10.5\n"
     ]
    }
   ],
   "source": [
    "intercept = lr.intercept_\n",
    "slope = lr.coef_\n",
    "\n",
    "print(\"Slope of the line (m)  :  \",slope)\n",
    "print(\"Intercept of the line (c)  :  \",intercept)"
   ]
  },
  {
   "cell_type": "code",
   "execution_count": 65,
   "id": "d2868e41",
   "metadata": {
    "collapsed": true
   },
   "outputs": [
    {
     "data": {
      "text/plain": [
       "array([[ 2.39034838],\n",
       "       [ 4.31105535],\n",
       "       [ 2.81717215],\n",
       "       [ 6.87199796],\n",
       "       [ 6.87199796],\n",
       "       [ 6.23176231],\n",
       "       [ 7.51223361],\n",
       "       [ 7.93905738],\n",
       "       [11.35364754],\n",
       "       [12.42070696],\n",
       "       [10.07317623],\n",
       "       [13.70117827],\n",
       "       [14.12800204],\n",
       "       [13.70117827],\n",
       "       [13.2743545 ],\n",
       "       [14.34141392],\n",
       "       [14.34141392],\n",
       "       [15.83529712],\n",
       "       [14.55482581],\n",
       "       [17.32918031],\n",
       "       [ 3.67081969],\n",
       "       [ 3.45740781],\n",
       "       [ 4.09764346],\n",
       "       [ 5.16470288],\n",
       "       [ 7.7256455 ],\n",
       "       [ 9.85976435],\n",
       "       [10.71341188],\n",
       "       [ 9.85976435],\n",
       "       [12.20729508],\n",
       "       [11.99388319],\n",
       "       [12.63411885],\n",
       "       [13.2743545 ],\n",
       "       [10.71341188],\n",
       "       [12.42070696],\n",
       "       [13.2743545 ],\n",
       "       [11.78047131],\n",
       "       [13.91459015],\n",
       "       [14.34141392],\n",
       "       [12.42070696],\n",
       "       [16.47553277],\n",
       "       [ 3.03058404],\n",
       "       [ 0.46964142],\n",
       "       [ 4.951291  ],\n",
       "       [ 4.52446723],\n",
       "       [ 8.15246927],\n",
       "       [ 9.43294058],\n",
       "       [10.28658812],\n",
       "       [10.71341188],\n",
       "       [ 9.85976435],\n",
       "       [ 8.36588115],\n",
       "       [10.07317623],\n",
       "       [11.56705942],\n",
       "       [12.42070696],\n",
       "       [13.06094262],\n",
       "       [13.06094262],\n",
       "       [13.70117827],\n",
       "       [13.70117827],\n",
       "       [14.76823769],\n",
       "       [20.10353481],\n",
       "       [17.75600408],\n",
       "       [ 1.32328896],\n",
       "       [ 1.53670084],\n",
       "       [ 4.73787911],\n",
       "       [ 4.52446723],\n",
       "       [11.99388319],\n",
       "       [ 9.43294058],\n",
       "       [ 6.44517419],\n",
       "       [11.56705942],\n",
       "       [11.78047131],\n",
       "       [11.78047131],\n",
       "       [11.14023565],\n",
       "       [10.71341188],\n",
       "       [11.78047131],\n",
       "       [11.56705942],\n",
       "       [13.06094262],\n",
       "       [15.40847335],\n",
       "       [16.26212089],\n",
       "       [13.70117827],\n",
       "       [13.48776639],\n",
       "       [17.75600408],\n",
       "       [-0.597418  ],\n",
       "       [ 4.09764346],\n",
       "       [ 7.29882173],\n",
       "       [ 6.01835042],\n",
       "       [ 6.44517419],\n",
       "       [ 8.15246927],\n",
       "       [10.28658812],\n",
       "       [10.5       ],\n",
       "       [10.71341188],\n",
       "       [ 8.79270492],\n",
       "       [ 8.57929304],\n",
       "       [11.78047131],\n",
       "       [ 8.36588115],\n",
       "       [11.99388319],\n",
       "       [14.12800204],\n",
       "       [13.2743545 ],\n",
       "       [16.90235654],\n",
       "       [16.47553277],\n",
       "       [17.32918031],\n",
       "       [19.46329916],\n",
       "       [ 0.25622954],\n",
       "       [ 5.16470288],\n",
       "       [ 3.67081969],\n",
       "       [ 6.01835042],\n",
       "       [ 7.29882173],\n",
       "       [ 5.59152665],\n",
       "       [ 9.43294058],\n",
       "       [ 9.85976435],\n",
       "       [11.99388319],\n",
       "       [12.20729508],\n",
       "       [11.78047131],\n",
       "       [11.99388319],\n",
       "       [13.06094262],\n",
       "       [10.5       ],\n",
       "       [11.56705942],\n",
       "       [13.48776639],\n",
       "       [15.19506146],\n",
       "       [15.62188523],\n",
       "       [16.26212089],\n",
       "       [19.03647539],\n",
       "       [ 1.32328896],\n",
       "       [ 2.60376027],\n",
       "       [ 1.53670084],\n",
       "       [ 5.80493854],\n",
       "       [ 7.08540985],\n",
       "       [ 4.52446723],\n",
       "       [12.42070696],\n",
       "       [10.71341188],\n",
       "       [11.35364754],\n",
       "       [ 9.64635246],\n",
       "       [12.20729508],\n",
       "       [13.06094262],\n",
       "       [12.20729508],\n",
       "       [12.84753073],\n",
       "       [13.06094262],\n",
       "       [14.34141392],\n",
       "       [15.19506146],\n",
       "       [15.40847335],\n",
       "       [16.90235654],\n",
       "       [17.75600408],\n",
       "       [ 1.96352461],\n",
       "       [ 1.32328896],\n",
       "       [ 7.29882173],\n",
       "       [ 4.09764346],\n",
       "       [ 6.23176231],\n",
       "       [ 8.57929304],\n",
       "       [10.71341188],\n",
       "       [11.14023565],\n",
       "       [11.99388319],\n",
       "       [12.84753073],\n",
       "       [ 9.64635246],\n",
       "       [12.84753073],\n",
       "       [12.20729508],\n",
       "       [12.42070696],\n",
       "       [10.28658812],\n",
       "       [11.56705942],\n",
       "       [12.63411885],\n",
       "       [14.12800204],\n",
       "       [18.18282785],\n",
       "       [19.89012292],\n",
       "       [ 0.46964142],\n",
       "       [ 2.60376027],\n",
       "       [ 4.31105535],\n",
       "       [ 6.65858608],\n",
       "       [ 7.93905738],\n",
       "       [ 9.64635246],\n",
       "       [10.5       ],\n",
       "       [12.20729508],\n",
       "       [ 9.21952869],\n",
       "       [11.56705942],\n",
       "       [12.20729508],\n",
       "       [10.71341188],\n",
       "       [11.99388319],\n",
       "       [12.63411885],\n",
       "       [12.20729508],\n",
       "       [10.28658812],\n",
       "       [13.06094262],\n",
       "       [14.12800204],\n",
       "       [18.8230635 ],\n",
       "       [18.8230635 ],\n",
       "       [-1.66447742],\n",
       "       [-0.38400612],\n",
       "       [ 3.67081969],\n",
       "       [10.71341188],\n",
       "       [ 8.15246927],\n",
       "       [ 9.43294058],\n",
       "       [ 9.00611681],\n",
       "       [ 8.79270492],\n",
       "       [ 9.21952869],\n",
       "       [11.99388319],\n",
       "       [13.91459015],\n",
       "       [11.78047131],\n",
       "       [12.20729508],\n",
       "       [12.63411885],\n",
       "       [12.84753073],\n",
       "       [13.91459015],\n",
       "       [15.83529712],\n",
       "       [14.98164958],\n",
       "       [17.96941596],\n",
       "       [14.98164958],\n",
       "       [-0.17059423],\n",
       "       [ 2.39034838],\n",
       "       [ 3.67081969],\n",
       "       [ 2.60376027],\n",
       "       [ 7.29882173],\n",
       "       [ 8.57929304],\n",
       "       [ 9.43294058],\n",
       "       [ 8.79270492],\n",
       "       [11.14023565],\n",
       "       [11.99388319],\n",
       "       [13.70117827],\n",
       "       [12.63411885],\n",
       "       [13.48776639],\n",
       "       [12.63411885],\n",
       "       [11.56705942],\n",
       "       [13.2743545 ],\n",
       "       [15.83529712],\n",
       "       [15.19506146],\n",
       "       [16.26212089],\n",
       "       [19.67671104],\n",
       "       [-1.45106554],\n",
       "       [ 1.96352461],\n",
       "       [ 4.09764346],\n",
       "       [ 4.52446723],\n",
       "       [ 9.85976435],\n",
       "       [ 7.08540985],\n",
       "       [11.56705942],\n",
       "       [ 9.43294058],\n",
       "       [ 9.85976435],\n",
       "       [10.92682377],\n",
       "       [10.07317623],\n",
       "       [11.56705942],\n",
       "       [12.42070696],\n",
       "       [13.70117827],\n",
       "       [15.62188523],\n",
       "       [15.19506146],\n",
       "       [15.19506146],\n",
       "       [15.40847335],\n",
       "       [16.048709  ],\n",
       "       [16.90235654],\n",
       "       [-1.87788931],\n",
       "       [ 2.1769365 ],\n",
       "       [ 1.32328896],\n",
       "       [ 2.1769365 ],\n",
       "       [ 5.80493854],\n",
       "       [ 6.23176231],\n",
       "       [10.07317623],\n",
       "       [ 8.79270492],\n",
       "       [12.20729508],\n",
       "       [12.20729508],\n",
       "       [ 9.43294058],\n",
       "       [14.76823769],\n",
       "       [12.63411885],\n",
       "       [14.12800204],\n",
       "       [15.40847335],\n",
       "       [14.34141392],\n",
       "       [15.19506146],\n",
       "       [15.83529712],\n",
       "       [13.91459015],\n",
       "       [25.22542004],\n",
       "       [ 1.10987708],\n",
       "       [-0.17059423],\n",
       "       [ 1.10987708],\n",
       "       [ 3.88423158],\n",
       "       [ 6.65858608],\n",
       "       [ 9.21952869],\n",
       "       [ 9.43294058],\n",
       "       [10.5       ],\n",
       "       [11.14023565],\n",
       "       [ 8.79270492],\n",
       "       [12.84753073],\n",
       "       [14.12800204],\n",
       "       [13.06094262],\n",
       "       [14.55482581],\n",
       "       [14.76823769],\n",
       "       [14.76823769],\n",
       "       [15.83529712],\n",
       "       [14.55482581],\n",
       "       [16.68894465],\n",
       "       [17.11576842],\n",
       "       [-4.65224381],\n",
       "       [-1.87788931],\n",
       "       [ 1.53670084],\n",
       "       [ 4.951291  ],\n",
       "       [ 4.52446723],\n",
       "       [ 7.7256455 ],\n",
       "       [ 4.951291  ],\n",
       "       [ 8.15246927],\n",
       "       [12.42070696],\n",
       "       [13.48776639],\n",
       "       [13.48776639],\n",
       "       [11.99388319],\n",
       "       [12.20729508],\n",
       "       [15.83529712],\n",
       "       [15.62188523],\n",
       "       [19.46329916],\n",
       "       [14.55482581],\n",
       "       [19.03647539],\n",
       "       [19.24988727],\n",
       "       [17.32918031],\n",
       "       [ 1.75011273],\n",
       "       [ 2.81717215],\n",
       "       [ 4.73787911],\n",
       "       [ 4.31105535],\n",
       "       [ 8.57929304],\n",
       "       [ 7.29882173],\n",
       "       [ 9.21952869],\n",
       "       [ 9.21952869],\n",
       "       [12.84753073],\n",
       "       [12.84753073],\n",
       "       [13.70117827],\n",
       "       [10.71341188],\n",
       "       [10.92682377],\n",
       "       [11.35364754],\n",
       "       [13.2743545 ],\n",
       "       [14.98164958],\n",
       "       [14.76823769],\n",
       "       [14.98164958],\n",
       "       [15.40847335],\n",
       "       [16.26212089],\n",
       "       [-3.15836062],\n",
       "       [-1.45106554],\n",
       "       [ 5.16470288],\n",
       "       [ 5.16470288],\n",
       "       [ 9.43294058],\n",
       "       [ 6.44517419],\n",
       "       [ 8.36588115],\n",
       "       [ 9.00611681],\n",
       "       [11.14023565],\n",
       "       [11.99388319],\n",
       "       [11.99388319],\n",
       "       [13.48776639],\n",
       "       [10.71341188],\n",
       "       [14.12800204],\n",
       "       [14.76823769],\n",
       "       [13.91459015],\n",
       "       [15.40847335],\n",
       "       [17.11576842],\n",
       "       [16.90235654],\n",
       "       [19.46329916],\n",
       "       [ 1.32328896],\n",
       "       [ 3.67081969],\n",
       "       [ 2.81717215],\n",
       "       [ 3.03058404],\n",
       "       [ 6.23176231],\n",
       "       [ 7.29882173],\n",
       "       [ 4.52446723],\n",
       "       [11.35364754],\n",
       "       [11.35364754],\n",
       "       [12.20729508],\n",
       "       [14.12800204],\n",
       "       [12.63411885],\n",
       "       [12.84753073],\n",
       "       [12.84753073],\n",
       "       [15.19506146],\n",
       "       [15.40847335],\n",
       "       [13.2743545 ],\n",
       "       [16.048709  ],\n",
       "       [16.90235654],\n",
       "       [16.90235654],\n",
       "       [-3.3717725 ],\n",
       "       [-0.38400612],\n",
       "       [ 1.10987708],\n",
       "       [ 4.73787911],\n",
       "       [ 5.80493854],\n",
       "       [ 9.64635246],\n",
       "       [ 6.01835042],\n",
       "       [ 8.79270492],\n",
       "       [11.99388319],\n",
       "       [13.91459015],\n",
       "       [13.70117827],\n",
       "       [10.5       ],\n",
       "       [12.84753073],\n",
       "       [14.55482581],\n",
       "       [15.19506146],\n",
       "       [13.70117827],\n",
       "       [13.91459015],\n",
       "       [17.75600408],\n",
       "       [20.10353481],\n",
       "       [19.46329916],\n",
       "       [ 1.75011273],\n",
       "       [ 0.89646519],\n",
       "       [ 3.03058404],\n",
       "       [ 5.16470288],\n",
       "       [ 9.43294058],\n",
       "       [ 9.64635246],\n",
       "       [ 6.01835042],\n",
       "       [11.14023565],\n",
       "       [ 9.85976435],\n",
       "       [11.35364754],\n",
       "       [10.92682377],\n",
       "       [11.14023565],\n",
       "       [13.2743545 ],\n",
       "       [12.42070696],\n",
       "       [15.40847335],\n",
       "       [15.19506146],\n",
       "       [16.048709  ],\n",
       "       [14.34141392],\n",
       "       [15.83529712],\n",
       "       [17.11576842],\n",
       "       [ 3.67081969],\n",
       "       [ 4.31105535],\n",
       "       [ 3.24399592],\n",
       "       [ 4.09764346],\n",
       "       [ 7.51223361],\n",
       "       [ 6.65858608],\n",
       "       [ 7.51223361],\n",
       "       [ 7.7256455 ],\n",
       "       [13.48776639],\n",
       "       [ 9.21952869],\n",
       "       [ 9.64635246],\n",
       "       [12.63411885],\n",
       "       [12.63411885],\n",
       "       [13.48776639],\n",
       "       [13.06094262],\n",
       "       [15.19506146],\n",
       "       [13.48776639],\n",
       "       [14.98164958],\n",
       "       [16.47553277],\n",
       "       [20.95718235],\n",
       "       [-0.597418  ],\n",
       "       [-2.30471308],\n",
       "       [ 1.75011273],\n",
       "       [ 2.81717215],\n",
       "       [ 3.45740781],\n",
       "       [ 5.16470288],\n",
       "       [ 6.65858608],\n",
       "       [11.99388319],\n",
       "       [13.06094262],\n",
       "       [12.20729508],\n",
       "       [14.12800204],\n",
       "       [13.70117827],\n",
       "       [13.70117827],\n",
       "       [13.2743545 ],\n",
       "       [15.83529712],\n",
       "       [13.91459015],\n",
       "       [16.47553277],\n",
       "       [19.67671104],\n",
       "       [16.048709  ],\n",
       "       [19.03647539],\n",
       "       [-6.35953889],\n",
       "       [ 1.96352461],\n",
       "       [ 2.39034838],\n",
       "       [ 0.68305331],\n",
       "       [ 5.37811477],\n",
       "       [ 5.59152665],\n",
       "       [11.14023565],\n",
       "       [13.48776639],\n",
       "       [11.35364754],\n",
       "       [12.20729508],\n",
       "       [12.63411885],\n",
       "       [13.91459015],\n",
       "       [14.76823769],\n",
       "       [14.76823769],\n",
       "       [14.76823769],\n",
       "       [16.90235654],\n",
       "       [14.55482581],\n",
       "       [16.47553277],\n",
       "       [17.54259219],\n",
       "       [15.83529712],\n",
       "       [-4.86565569],\n",
       "       [-3.79859627],\n",
       "       [ 5.37811477],\n",
       "       [ 4.52446723],\n",
       "       [ 5.80493854],\n",
       "       [ 8.15246927],\n",
       "       [10.28658812],\n",
       "       [ 8.79270492],\n",
       "       [ 9.85976435],\n",
       "       [11.14023565],\n",
       "       [11.99388319],\n",
       "       [10.92682377],\n",
       "       [11.78047131],\n",
       "       [13.48776639],\n",
       "       [15.40847335],\n",
       "       [14.76823769],\n",
       "       [15.83529712],\n",
       "       [17.96941596],\n",
       "       [20.53035858],\n",
       "       [22.02424177],\n",
       "       [-0.597418  ],\n",
       "       [-3.79859627],\n",
       "       [ 4.09764346],\n",
       "       [ 7.29882173],\n",
       "       [ 4.951291  ],\n",
       "       [ 7.51223361],\n",
       "       [ 8.15246927],\n",
       "       [ 8.79270492],\n",
       "       [10.5       ],\n",
       "       [11.99388319],\n",
       "       [12.42070696],\n",
       "       [13.06094262],\n",
       "       [14.76823769],\n",
       "       [14.55482581],\n",
       "       [13.70117827],\n",
       "       [13.2743545 ],\n",
       "       [16.048709  ],\n",
       "       [15.83529712],\n",
       "       [16.47553277],\n",
       "       [20.95718235]])"
      ]
     },
     "execution_count": 65,
     "metadata": {},
     "output_type": "execute_result"
    }
   ],
   "source": [
    "#create our regression equation\n",
    "y_pred = slope*x + intercept\n",
    "y_pred"
   ]
  },
  {
   "cell_type": "code",
   "execution_count": 74,
   "id": "36cb919d",
   "metadata": {
    "collapsed": true
   },
   "outputs": [
    {
     "data": {
      "image/png": "[encoded data removed]",
      "text/plain": [
       "<Figure size 720x720 with 1 Axes>"
      ]
     },
     "metadata": {
      "needs_background": "light"
     },
     "output_type": "display_data"
    }
   ],
   "source": [
    "plt.figure(figsize=(10,10))\n",
    "\n",
    "plt.plot(x,y_pred,color='red',linestyle='--')\n",
    "\n",
    "plt.scatter(x,y)\n",
    "\n",
    "plt.ylim(0,21)  # This is used to limit the graph between 0 to 21 in y-axis\n",
    "\n",
    "plt.yticks(np.arange(1,21))  # To ensure that y-axis contains integres which can be viewd as rank\n",
    "\n",
    "plt.gca().invert_yaxis() # invert the graph\n",
    "plt.ylabel('Position at the End of the Season')\n",
    "plt.xlabel('Goal Difference at the End of the Season')\n",
    "plt.title('Predicting the Rank using Linear Regression Model')\n",
    "plt.show()"
   ]
  },
  {
   "cell_type": "markdown",
   "id": "0798ad53",
   "metadata": {},
   "source": [
    "#### Predicting on 2020 Season"
   ]
  },
  {
   "cell_type": "code",
   "execution_count": 78,
   "id": "be8103dd",
   "metadata": {},
   "outputs": [],
   "source": [
    "y = df[df['Year'] == 2020].Rk\n",
    "x = df[df['Year'] == 2020]['Goal Difference'].values.reshape(-1,1)"
   ]
  },
  {
   "cell_type": "code",
   "execution_count": 79,
   "id": "616671a3",
   "metadata": {
    "collapsed": true
   },
   "outputs": [
    {
     "data": {
      "text/plain": [
       "array([-0.597418  , -3.79859627,  4.09764346,  7.29882173,  4.951291  ,\n",
       "        7.51223361,  8.15246927,  8.79270492, 10.5       , 11.99388319,\n",
       "       12.42070696, 13.06094262, 14.76823769, 14.55482581, 13.70117827,\n",
       "       13.2743545 , 16.048709  , 15.83529712, 16.47553277, 20.95718235])"
      ]
     },
     "execution_count": 79,
     "metadata": {},
     "output_type": "execute_result"
    }
   ],
   "source": [
    "y_pred = lr.predict(x)\n",
    "y_pred"
   ]
  },
  {
   "cell_type": "code",
   "execution_count": 80,
   "id": "c5fd443c",
   "metadata": {},
   "outputs": [
    {
     "data": {
      "image/png": "[encoded data removed]",
      "text/plain": [
       "<Figure size 720x720 with 1 Axes>"
      ]
     },
     "metadata": {
      "needs_background": "light"
     },
     "output_type": "display_data"
    }
   ],
   "source": [
    "plt.figure(figsize=(10,10))\n",
    "plt.plot(x,y_pred,color='red',linestyle='--')\n",
    "plt.scatter(x,y)\n",
    "plt.ylim(0,21)  # This is used to limit the graph between 0 to 21 in y-axis\n",
    "plt.yticks(np.arange(1,21))  # To ensure that y-axis contains integres which can be viewd as rank\n",
    "plt.gca().invert_yaxis() # invert the graph\n",
    "plt.ylabel('Position at the End of the Season')\n",
    "plt.xlabel('Goal Difference at the End of the Season')\n",
    "plt.title('Predicting the Rank using Linear Regression Model')\n",
    "plt.show()"
   ]
  },
  {
   "cell_type": "code",
   "execution_count": null,
   "id": "ac23cc92",
   "metadata": {},
   "outputs": [],
   "source": [
    "Error = (Acutal - Predicted)"
   ]
  },
  {
   "cell_type": "code",
   "execution_count": null,
   "id": "9db6933d",
   "metadata": {},
   "outputs": [],
   "source": [
    "#Data Point 1\n",
    "Actual = 15\n",
    "Predited = 18\n",
    "Error = -3\n",
    "\n",
    "#Data Point 2\n",
    "Actual = 16\n",
    "Predited = 12\n",
    "Error = 4\n",
    "\n",
    "#Data Point 3\n",
    "Actual = 13\n",
    "Predited = 11\n",
    "Error = 2"
   ]
  },
  {
   "cell_type": "code",
   "execution_count": null,
   "id": "ee60bff8",
   "metadata": {},
   "outputs": [],
   "source": [
    "#How to assess a regression model\n",
    "\n",
    "1. R-Squared? = This measures the goodness of the fit\n",
    "2. Mean Absolute Error = (3 + 4 + 2)/3\n",
    "3. Mean Squared Error = (3**2 + 4**2 + 2**)/3\n",
    "4. Root Mean Squared Error = squareroot(Mean Squared Error)"
   ]
  },
  {
   "cell_type": "code",
   "execution_count": 81,
   "id": "67f1bbb7",
   "metadata": {},
   "outputs": [],
   "source": [
    "from sklearn import metrics"
   ]
  },
  {
   "cell_type": "code",
   "execution_count": 82,
   "id": "2c314583",
   "metadata": {},
   "outputs": [
    {
     "name": "stdout",
     "output_type": "stream",
     "text": [
      "R Squared :  0.8687090530652638\n",
      "Mean Absolute Error :  1.7109651616444803\n",
      "Mean Squared Error :  4.365423985579978\n",
      "Root Mean Squared Error :  2.089359707082526\n"
     ]
    }
   ],
   "source": [
    "print('R Squared : ',metrics.r2_score(y,y_pred))\n",
    "\n",
    "print('Mean Absolute Error : ',metrics.mean_absolute_error(y,y_pred))\n",
    "\n",
    "print('Mean Squared Error : ',metrics.mean_squared_error(y,y_pred))\n",
    "\n",
    "print('Root Mean Squared Error : ',np.sqrt(metrics.mean_squared_error(y,y_pred)))"
   ]
  },
  {
   "cell_type": "markdown",
   "id": "2d42d9b4",
   "metadata": {},
   "source": [
    "#### Multivariate Linear Regression"
   ]
  },
  {
   "cell_type": "code",
   "execution_count": 106,
   "id": "37b01d81",
   "metadata": {},
   "outputs": [],
   "source": [
    "from sklearn.datasets import load_boston"
   ]
  },
  {
   "cell_type": "code",
   "execution_count": 107,
   "id": "3fc92b03",
   "metadata": {},
   "outputs": [],
   "source": [
    "boston_dataset = load_boston()"
   ]
  },
  {
   "cell_type": "code",
   "execution_count": 108,
   "id": "1b64480d",
   "metadata": {},
   "outputs": [
    {
     "data": {
      "text/plain": [
       "dict_keys(['data', 'target', 'feature_names', 'DESCR', 'filename'])"
      ]
     },
     "execution_count": 108,
     "metadata": {},
     "output_type": "execute_result"
    }
   ],
   "source": [
    "boston_dataset.keys()"
   ]
  },
  {
   "cell_type": "code",
   "execution_count": 112,
   "id": "b472b053",
   "metadata": {
    "collapsed": true
   },
   "outputs": [
    {
     "data": {
      "text/plain": [
       "array([[6.3200e-03, 1.8000e+01, 2.3100e+00, ..., 1.5300e+01, 3.9690e+02,\n",
       "        4.9800e+00],\n",
       "       [2.7310e-02, 0.0000e+00, 7.0700e+00, ..., 1.7800e+01, 3.9690e+02,\n",
       "        9.1400e+00],\n",
       "       [2.7290e-02, 0.0000e+00, 7.0700e+00, ..., 1.7800e+01, 3.9283e+02,\n",
       "        4.0300e+00],\n",
       "       ...,\n",
       "       [6.0760e-02, 0.0000e+00, 1.1930e+01, ..., 2.1000e+01, 3.9690e+02,\n",
       "        5.6400e+00],\n",
       "       [1.0959e-01, 0.0000e+00, 1.1930e+01, ..., 2.1000e+01, 3.9345e+02,\n",
       "        6.4800e+00],\n",
       "       [4.7410e-02, 0.0000e+00, 1.1930e+01, ..., 2.1000e+01, 3.9690e+02,\n",
       "        7.8800e+00]])"
      ]
     },
     "execution_count": 112,
     "metadata": {},
     "output_type": "execute_result"
    }
   ],
   "source": [
    "boston_dataset['data']"
   ]
  },
  {
   "cell_type": "code",
   "execution_count": 113,
   "id": "c1a794eb",
   "metadata": {
    "collapsed": true
   },
   "outputs": [
    {
     "data": {
      "text/plain": [
       "array([24. , 21.6, 34.7, 33.4, 36.2, 28.7, 22.9, 27.1, 16.5, 18.9, 15. ,\n",
       "       18.9, 21.7, 20.4, 18.2, 19.9, 23.1, 17.5, 20.2, 18.2, 13.6, 19.6,\n",
       "       15.2, 14.5, 15.6, 13.9, 16.6, 14.8, 18.4, 21. , 12.7, 14.5, 13.2,\n",
       "       13.1, 13.5, 18.9, 20. , 21. , 24.7, 30.8, 34.9, 26.6, 25.3, 24.7,\n",
       "       21.2, 19.3, 20. , 16.6, 14.4, 19.4, 19.7, 20.5, 25. , 23.4, 18.9,\n",
       "       35.4, 24.7, 31.6, 23.3, 19.6, 18.7, 16. , 22.2, 25. , 33. , 23.5,\n",
       "       19.4, 22. , 17.4, 20.9, 24.2, 21.7, 22.8, 23.4, 24.1, 21.4, 20. ,\n",
       "       20.8, 21.2, 20.3, 28. , 23.9, 24.8, 22.9, 23.9, 26.6, 22.5, 22.2,\n",
       "       23.6, 28.7, 22.6, 22. , 22.9, 25. , 20.6, 28.4, 21.4, 38.7, 43.8,\n",
       "       33.2, 27.5, 26.5, 18.6, 19.3, 20.1, 19.5, 19.5, 20.4, 19.8, 19.4,\n",
       "       21.7, 22.8, 18.8, 18.7, 18.5, 18.3, 21.2, 19.2, 20.4, 19.3, 22. ,\n",
       "       20.3, 20.5, 17.3, 18.8, 21.4, 15.7, 16.2, 18. , 14.3, 19.2, 19.6,\n",
       "       23. , 18.4, 15.6, 18.1, 17.4, 17.1, 13.3, 17.8, 14. , 14.4, 13.4,\n",
       "       15.6, 11.8, 13.8, 15.6, 14.6, 17.8, 15.4, 21.5, 19.6, 15.3, 19.4,\n",
       "       17. , 15.6, 13.1, 41.3, 24.3, 23.3, 27. , 50. , 50. , 50. , 22.7,\n",
       "       25. , 50. , 23.8, 23.8, 22.3, 17.4, 19.1, 23.1, 23.6, 22.6, 29.4,\n",
       "       23.2, 24.6, 29.9, 37.2, 39.8, 36.2, 37.9, 32.5, 26.4, 29.6, 50. ,\n",
       "       32. , 29.8, 34.9, 37. , 30.5, 36.4, 31.1, 29.1, 50. , 33.3, 30.3,\n",
       "       34.6, 34.9, 32.9, 24.1, 42.3, 48.5, 50. , 22.6, 24.4, 22.5, 24.4,\n",
       "       20. , 21.7, 19.3, 22.4, 28.1, 23.7, 25. , 23.3, 28.7, 21.5, 23. ,\n",
       "       26.7, 21.7, 27.5, 30.1, 44.8, 50. , 37.6, 31.6, 46.7, 31.5, 24.3,\n",
       "       31.7, 41.7, 48.3, 29. , 24. , 25.1, 31.5, 23.7, 23.3, 22. , 20.1,\n",
       "       22.2, 23.7, 17.6, 18.5, 24.3, 20.5, 24.5, 26.2, 24.4, 24.8, 29.6,\n",
       "       42.8, 21.9, 20.9, 44. , 50. , 36. , 30.1, 33.8, 43.1, 48.8, 31. ,\n",
       "       36.5, 22.8, 30.7, 50. , 43.5, 20.7, 21.1, 25.2, 24.4, 35.2, 32.4,\n",
       "       32. , 33.2, 33.1, 29.1, 35.1, 45.4, 35.4, 46. , 50. , 32.2, 22. ,\n",
       "       20.1, 23.2, 22.3, 24.8, 28.5, 37.3, 27.9, 23.9, 21.7, 28.6, 27.1,\n",
       "       20.3, 22.5, 29. , 24.8, 22. , 26.4, 33.1, 36.1, 28.4, 33.4, 28.2,\n",
       "       22.8, 20.3, 16.1, 22.1, 19.4, 21.6, 23.8, 16.2, 17.8, 19.8, 23.1,\n",
       "       21. , 23.8, 23.1, 20.4, 18.5, 25. , 24.6, 23. , 22.2, 19.3, 22.6,\n",
       "       19.8, 17.1, 19.4, 22.2, 20.7, 21.1, 19.5, 18.5, 20.6, 19. , 18.7,\n",
       "       32.7, 16.5, 23.9, 31.2, 17.5, 17.2, 23.1, 24.5, 26.6, 22.9, 24.1,\n",
       "       18.6, 30.1, 18.2, 20.6, 17.8, 21.7, 22.7, 22.6, 25. , 19.9, 20.8,\n",
       "       16.8, 21.9, 27.5, 21.9, 23.1, 50. , 50. , 50. , 50. , 50. , 13.8,\n",
       "       13.8, 15. , 13.9, 13.3, 13.1, 10.2, 10.4, 10.9, 11.3, 12.3,  8.8,\n",
       "        7.2, 10.5,  7.4, 10.2, 11.5, 15.1, 23.2,  9.7, 13.8, 12.7, 13.1,\n",
       "       12.5,  8.5,  5. ,  6.3,  5.6,  7.2, 12.1,  8.3,  8.5,  5. , 11.9,\n",
       "       27.9, 17.2, 27.5, 15. , 17.2, 17.9, 16.3,  7. ,  7.2,  7.5, 10.4,\n",
       "        8.8,  8.4, 16.7, 14.2, 20.8, 13.4, 11.7,  8.3, 10.2, 10.9, 11. ,\n",
       "        9.5, 14.5, 14.1, 16.1, 14.3, 11.7, 13.4,  9.6,  8.7,  8.4, 12.8,\n",
       "       10.5, 17.1, 18.4, 15.4, 10.8, 11.8, 14.9, 12.6, 14.1, 13. , 13.4,\n",
       "       15.2, 16.1, 17.8, 14.9, 14.1, 12.7, 13.5, 14.9, 20. , 16.4, 17.7,\n",
       "       19.5, 20.2, 21.4, 19.9, 19. , 19.1, 19.1, 20.1, 19.9, 19.6, 23.2,\n",
       "       29.8, 13.8, 13.3, 16.7, 12. , 14.6, 21.4, 23. , 23.7, 25. , 21.8,\n",
       "       20.6, 21.2, 19.1, 20.6, 15.2,  7. ,  8.1, 13.6, 20.1, 21.8, 24.5,\n",
       "       23.1, 19.7, 18.3, 21.2, 17.5, 16.8, 22.4, 20.6, 23.9, 22. , 11.9])"
      ]
     },
     "execution_count": 113,
     "metadata": {},
     "output_type": "execute_result"
    }
   ],
   "source": [
    "boston_dataset['target']"
   ]
  },
  {
   "cell_type": "code",
   "execution_count": 114,
   "id": "1dabe39d",
   "metadata": {
    "collapsed": true
   },
   "outputs": [
    {
     "data": {
      "text/plain": [
       "array(['CRIM', 'ZN', 'INDUS', 'CHAS', 'NOX', 'RM', 'AGE', 'DIS', 'RAD',\n",
       "       'TAX', 'PTRATIO', 'B', 'LSTAT'], dtype='<U7')"
      ]
     },
     "execution_count": 114,
     "metadata": {},
     "output_type": "execute_result"
    }
   ],
   "source": [
    "boston_dataset['feature_names']"
   ]
  },
  {
   "cell_type": "code",
   "execution_count": 115,
   "id": "8abf2f36",
   "metadata": {
    "collapsed": true
   },
   "outputs": [
    {
     "data": {
      "text/plain": [
       "\".. _boston_dataset:\\n\\nBoston house prices dataset\\n---------------------------\\n\\n**Data Set Characteristics:**  \\n\\n    :Number of Instances: 506 \\n\\n    :Number of Attributes: 13 numeric/categorical predictive. Median Value (attribute 14) is usually the target.\\n\\n    :Attribute Information (in order):\\n        - CRIM     per capita crime rate by town\\n        - ZN       proportion of residential land zoned for lots over 25,000 sq.ft.\\n        - INDUS    proportion of non-retail business acres per town\\n        - CHAS     Charles River dummy variable (= 1 if tract bounds river; 0 otherwise)\\n        - NOX      nitric oxides concentration (parts per 10 million)\\n        - RM       average number of rooms per dwelling\\n        - AGE      proportion of owner-occupied units built prior to 1940\\n        - DIS      weighted distances to five Boston employment centres\\n        - RAD      index of accessibility to radial highways\\n        - TAX      full-value property-tax rate per $10,000\\n        - PTRATIO  pupil-teacher ratio by town\\n        - B        1000(Bk - 0.63)^2 where Bk is the proportion of blacks by town\\n        - LSTAT    % lower status of the population\\n        - MEDV     Median value of owner-occupied homes in $1000's\\n\\n    :Missing Attribute Values: None\\n\\n    :Creator: Harrison, D. and Rubinfeld, D.L.\\n\\nThis is a copy of UCI ML housing dataset.\\nhttps://archive.ics.uci.edu/ml/machine-learning-databases/housing/\\n\\n\\nThis dataset was taken from the StatLib library which is maintained at Carnegie Mellon University.\\n\\nThe Boston house-price data of Harrison, D. and Rubinfeld, D.L. 'Hedonic\\nprices and the demand for clean air', J. Environ. Economics & Management,\\nvol.5, 81-102, 1978.   Used in Belsley, Kuh & Welsch, 'Regression diagnostics\\n...', Wiley, 1980.   N.B. Various transformations are used in the table on\\npages 244-261 of the latter.\\n\\nThe Boston house-price data has been used in many machine learning papers that address regression\\nproblems.   \\n     \\n.. topic:: References\\n\\n   - Belsley, Kuh & Welsch, 'Regression diagnostics: Identifying Influential Data and Sources of Collinearity', Wiley, 1980. 244-261.\\n   - Quinlan,R. (1993). Combining Instance-Based and Model-Based Learning. In Proceedings on the Tenth International Conference of Machine Learning, 236-243, University of Massachusetts, Amherst. Morgan Kaufmann.\\n\""
      ]
     },
     "execution_count": 115,
     "metadata": {},
     "output_type": "execute_result"
    }
   ],
   "source": [
    "boston_dataset['DESCR']"
   ]
  },
  {
   "cell_type": "code",
   "execution_count": 117,
   "id": "af2852e8",
   "metadata": {
    "collapsed": true
   },
   "outputs": [
    {
     "data": {
      "text/html": [
       "<div>\n",
       "<style scoped>\n",
       "    .dataframe tbody tr th:only-of-type {\n",
       "        vertical-align: middle;\n",
       "    }\n",
       "\n",
       "    .dataframe tbody tr th {\n",
       "        vertical-align: top;\n",
       "    }\n",
       "\n",
       "    .dataframe thead th {\n",
       "        text-align: right;\n",
       "    }\n",
       "</style>\n",
       "<table border=\"1\" class=\"dataframe\">\n",
       "  <thead>\n",
       "    <tr style=\"text-align: right;\">\n",
       "      <th></th>\n",
       "      <th>CRIM</th>\n",
       "      <th>ZN</th>\n",
       "      <th>INDUS</th>\n",
       "      <th>CHAS</th>\n",
       "      <th>NOX</th>\n",
       "      <th>RM</th>\n",
       "      <th>AGE</th>\n",
       "      <th>DIS</th>\n",
       "      <th>RAD</th>\n",
       "      <th>TAX</th>\n",
       "      <th>PTRATIO</th>\n",
       "      <th>B</th>\n",
       "      <th>LSTAT</th>\n",
       "    </tr>\n",
       "  </thead>\n",
       "  <tbody>\n",
       "    <tr>\n",
       "      <th>0</th>\n",
       "      <td>0.00632</td>\n",
       "      <td>18.0</td>\n",
       "      <td>2.31</td>\n",
       "      <td>0.0</td>\n",
       "      <td>0.538</td>\n",
       "      <td>6.575</td>\n",
       "      <td>65.2</td>\n",
       "      <td>4.0900</td>\n",
       "      <td>1.0</td>\n",
       "      <td>296.0</td>\n",
       "      <td>15.3</td>\n",
       "      <td>396.90</td>\n",
       "      <td>4.98</td>\n",
       "    </tr>\n",
       "    <tr>\n",
       "      <th>1</th>\n",
       "      <td>0.02731</td>\n",
       "      <td>0.0</td>\n",
       "      <td>7.07</td>\n",
       "      <td>0.0</td>\n",
       "      <td>0.469</td>\n",
       "      <td>6.421</td>\n",
       "      <td>78.9</td>\n",
       "      <td>4.9671</td>\n",
       "      <td>2.0</td>\n",
       "      <td>242.0</td>\n",
       "      <td>17.8</td>\n",
       "      <td>396.90</td>\n",
       "      <td>9.14</td>\n",
       "    </tr>\n",
       "    <tr>\n",
       "      <th>2</th>\n",
       "      <td>0.02729</td>\n",
       "      <td>0.0</td>\n",
       "      <td>7.07</td>\n",
       "      <td>0.0</td>\n",
       "      <td>0.469</td>\n",
       "      <td>7.185</td>\n",
       "      <td>61.1</td>\n",
       "      <td>4.9671</td>\n",
       "      <td>2.0</td>\n",
       "      <td>242.0</td>\n",
       "      <td>17.8</td>\n",
       "      <td>392.83</td>\n",
       "      <td>4.03</td>\n",
       "    </tr>\n",
       "    <tr>\n",
       "      <th>3</th>\n",
       "      <td>0.03237</td>\n",
       "      <td>0.0</td>\n",
       "      <td>2.18</td>\n",
       "      <td>0.0</td>\n",
       "      <td>0.458</td>\n",
       "      <td>6.998</td>\n",
       "      <td>45.8</td>\n",
       "      <td>6.0622</td>\n",
       "      <td>3.0</td>\n",
       "      <td>222.0</td>\n",
       "      <td>18.7</td>\n",
       "      <td>394.63</td>\n",
       "      <td>2.94</td>\n",
       "    </tr>\n",
       "    <tr>\n",
       "      <th>4</th>\n",
       "      <td>0.06905</td>\n",
       "      <td>0.0</td>\n",
       "      <td>2.18</td>\n",
       "      <td>0.0</td>\n",
       "      <td>0.458</td>\n",
       "      <td>7.147</td>\n",
       "      <td>54.2</td>\n",
       "      <td>6.0622</td>\n",
       "      <td>3.0</td>\n",
       "      <td>222.0</td>\n",
       "      <td>18.7</td>\n",
       "      <td>396.90</td>\n",
       "      <td>5.33</td>\n",
       "    </tr>\n",
       "  </tbody>\n",
       "</table>\n",
       "</div>"
      ],
      "text/plain": [
       "      CRIM    ZN  INDUS  CHAS    NOX     RM   AGE     DIS  RAD    TAX  \\\n",
       "0  0.00632  18.0   2.31   0.0  0.538  6.575  65.2  4.0900  1.0  296.0   \n",
       "1  0.02731   0.0   7.07   0.0  0.469  6.421  78.9  4.9671  2.0  242.0   \n",
       "2  0.02729   0.0   7.07   0.0  0.469  7.185  61.1  4.9671  2.0  242.0   \n",
       "3  0.03237   0.0   2.18   0.0  0.458  6.998  45.8  6.0622  3.0  222.0   \n",
       "4  0.06905   0.0   2.18   0.0  0.458  7.147  54.2  6.0622  3.0  222.0   \n",
       "\n",
       "   PTRATIO       B  LSTAT  \n",
       "0     15.3  396.90   4.98  \n",
       "1     17.8  396.90   9.14  \n",
       "2     17.8  392.83   4.03  \n",
       "3     18.7  394.63   2.94  \n",
       "4     18.7  396.90   5.33  "
      ]
     },
     "execution_count": 117,
     "metadata": {},
     "output_type": "execute_result"
    }
   ],
   "source": [
    "df = pd.DataFrame(boston_dataset['data'],columns = boston_dataset['feature_names'])\n",
    "df.head(5)"
   ]
  },
  {
   "cell_type": "code",
   "execution_count": 118,
   "id": "3992bcae",
   "metadata": {},
   "outputs": [],
   "source": [
    "df['Price'] = boston_dataset['target']"
   ]
  },
  {
   "cell_type": "code",
   "execution_count": 119,
   "id": "62200b27",
   "metadata": {
    "collapsed": true
   },
   "outputs": [
    {
     "data": {
      "text/html": [
       "<div>\n",
       "<style scoped>\n",
       "    .dataframe tbody tr th:only-of-type {\n",
       "        vertical-align: middle;\n",
       "    }\n",
       "\n",
       "    .dataframe tbody tr th {\n",
       "        vertical-align: top;\n",
       "    }\n",
       "\n",
       "    .dataframe thead th {\n",
       "        text-align: right;\n",
       "    }\n",
       "</style>\n",
       "<table border=\"1\" class=\"dataframe\">\n",
       "  <thead>\n",
       "    <tr style=\"text-align: right;\">\n",
       "      <th></th>\n",
       "      <th>CRIM</th>\n",
       "      <th>ZN</th>\n",
       "      <th>INDUS</th>\n",
       "      <th>CHAS</th>\n",
       "      <th>NOX</th>\n",
       "      <th>RM</th>\n",
       "      <th>AGE</th>\n",
       "      <th>DIS</th>\n",
       "      <th>RAD</th>\n",
       "      <th>TAX</th>\n",
       "      <th>PTRATIO</th>\n",
       "      <th>B</th>\n",
       "      <th>LSTAT</th>\n",
       "      <th>Price</th>\n",
       "    </tr>\n",
       "  </thead>\n",
       "  <tbody>\n",
       "    <tr>\n",
       "      <th>0</th>\n",
       "      <td>0.00632</td>\n",
       "      <td>18.0</td>\n",
       "      <td>2.31</td>\n",
       "      <td>0.0</td>\n",
       "      <td>0.538</td>\n",
       "      <td>6.575</td>\n",
       "      <td>65.2</td>\n",
       "      <td>4.0900</td>\n",
       "      <td>1.0</td>\n",
       "      <td>296.0</td>\n",
       "      <td>15.3</td>\n",
       "      <td>396.90</td>\n",
       "      <td>4.98</td>\n",
       "      <td>24.0</td>\n",
       "    </tr>\n",
       "    <tr>\n",
       "      <th>1</th>\n",
       "      <td>0.02731</td>\n",
       "      <td>0.0</td>\n",
       "      <td>7.07</td>\n",
       "      <td>0.0</td>\n",
       "      <td>0.469</td>\n",
       "      <td>6.421</td>\n",
       "      <td>78.9</td>\n",
       "      <td>4.9671</td>\n",
       "      <td>2.0</td>\n",
       "      <td>242.0</td>\n",
       "      <td>17.8</td>\n",
       "      <td>396.90</td>\n",
       "      <td>9.14</td>\n",
       "      <td>21.6</td>\n",
       "    </tr>\n",
       "    <tr>\n",
       "      <th>2</th>\n",
       "      <td>0.02729</td>\n",
       "      <td>0.0</td>\n",
       "      <td>7.07</td>\n",
       "      <td>0.0</td>\n",
       "      <td>0.469</td>\n",
       "      <td>7.185</td>\n",
       "      <td>61.1</td>\n",
       "      <td>4.9671</td>\n",
       "      <td>2.0</td>\n",
       "      <td>242.0</td>\n",
       "      <td>17.8</td>\n",
       "      <td>392.83</td>\n",
       "      <td>4.03</td>\n",
       "      <td>34.7</td>\n",
       "    </tr>\n",
       "    <tr>\n",
       "      <th>3</th>\n",
       "      <td>0.03237</td>\n",
       "      <td>0.0</td>\n",
       "      <td>2.18</td>\n",
       "      <td>0.0</td>\n",
       "      <td>0.458</td>\n",
       "      <td>6.998</td>\n",
       "      <td>45.8</td>\n",
       "      <td>6.0622</td>\n",
       "      <td>3.0</td>\n",
       "      <td>222.0</td>\n",
       "      <td>18.7</td>\n",
       "      <td>394.63</td>\n",
       "      <td>2.94</td>\n",
       "      <td>33.4</td>\n",
       "    </tr>\n",
       "    <tr>\n",
       "      <th>4</th>\n",
       "      <td>0.06905</td>\n",
       "      <td>0.0</td>\n",
       "      <td>2.18</td>\n",
       "      <td>0.0</td>\n",
       "      <td>0.458</td>\n",
       "      <td>7.147</td>\n",
       "      <td>54.2</td>\n",
       "      <td>6.0622</td>\n",
       "      <td>3.0</td>\n",
       "      <td>222.0</td>\n",
       "      <td>18.7</td>\n",
       "      <td>396.90</td>\n",
       "      <td>5.33</td>\n",
       "      <td>36.2</td>\n",
       "    </tr>\n",
       "  </tbody>\n",
       "</table>\n",
       "</div>"
      ],
      "text/plain": [
       "      CRIM    ZN  INDUS  CHAS    NOX     RM   AGE     DIS  RAD    TAX  \\\n",
       "0  0.00632  18.0   2.31   0.0  0.538  6.575  65.2  4.0900  1.0  296.0   \n",
       "1  0.02731   0.0   7.07   0.0  0.469  6.421  78.9  4.9671  2.0  242.0   \n",
       "2  0.02729   0.0   7.07   0.0  0.469  7.185  61.1  4.9671  2.0  242.0   \n",
       "3  0.03237   0.0   2.18   0.0  0.458  6.998  45.8  6.0622  3.0  222.0   \n",
       "4  0.06905   0.0   2.18   0.0  0.458  7.147  54.2  6.0622  3.0  222.0   \n",
       "\n",
       "   PTRATIO       B  LSTAT  Price  \n",
       "0     15.3  396.90   4.98   24.0  \n",
       "1     17.8  396.90   9.14   21.6  \n",
       "2     17.8  392.83   4.03   34.7  \n",
       "3     18.7  394.63   2.94   33.4  \n",
       "4     18.7  396.90   5.33   36.2  "
      ]
     },
     "execution_count": 119,
     "metadata": {},
     "output_type": "execute_result"
    }
   ],
   "source": [
    "df.head(5)"
   ]
  },
  {
   "cell_type": "code",
   "execution_count": 121,
   "id": "5cbde95f",
   "metadata": {
    "collapsed": true
   },
   "outputs": [
    {
     "data": {
      "text/html": [
       "<div>\n",
       "<style scoped>\n",
       "    .dataframe tbody tr th:only-of-type {\n",
       "        vertical-align: middle;\n",
       "    }\n",
       "\n",
       "    .dataframe tbody tr th {\n",
       "        vertical-align: top;\n",
       "    }\n",
       "\n",
       "    .dataframe thead th {\n",
       "        text-align: right;\n",
       "    }\n",
       "</style>\n",
       "<table border=\"1\" class=\"dataframe\">\n",
       "  <thead>\n",
       "    <tr style=\"text-align: right;\">\n",
       "      <th></th>\n",
       "      <th>CRIM</th>\n",
       "      <th>ZN</th>\n",
       "      <th>INDUS</th>\n",
       "      <th>CHAS</th>\n",
       "      <th>NOX</th>\n",
       "      <th>RM</th>\n",
       "      <th>AGE</th>\n",
       "      <th>DIS</th>\n",
       "      <th>RAD</th>\n",
       "      <th>TAX</th>\n",
       "      <th>PTRATIO</th>\n",
       "      <th>B</th>\n",
       "      <th>LSTAT</th>\n",
       "      <th>Price</th>\n",
       "    </tr>\n",
       "  </thead>\n",
       "  <tbody>\n",
       "    <tr>\n",
       "      <th>CRIM</th>\n",
       "      <td>1.00</td>\n",
       "      <td>-0.20</td>\n",
       "      <td>0.41</td>\n",
       "      <td>-0.06</td>\n",
       "      <td>0.42</td>\n",
       "      <td>-0.22</td>\n",
       "      <td>0.35</td>\n",
       "      <td>-0.38</td>\n",
       "      <td>0.63</td>\n",
       "      <td>0.58</td>\n",
       "      <td>0.29</td>\n",
       "      <td>-0.39</td>\n",
       "      <td>0.46</td>\n",
       "      <td>-0.39</td>\n",
       "    </tr>\n",
       "    <tr>\n",
       "      <th>ZN</th>\n",
       "      <td>-0.20</td>\n",
       "      <td>1.00</td>\n",
       "      <td>-0.53</td>\n",
       "      <td>-0.04</td>\n",
       "      <td>-0.52</td>\n",
       "      <td>0.31</td>\n",
       "      <td>-0.57</td>\n",
       "      <td>0.66</td>\n",
       "      <td>-0.31</td>\n",
       "      <td>-0.31</td>\n",
       "      <td>-0.39</td>\n",
       "      <td>0.18</td>\n",
       "      <td>-0.41</td>\n",
       "      <td>0.36</td>\n",
       "    </tr>\n",
       "    <tr>\n",
       "      <th>INDUS</th>\n",
       "      <td>0.41</td>\n",
       "      <td>-0.53</td>\n",
       "      <td>1.00</td>\n",
       "      <td>0.06</td>\n",
       "      <td>0.76</td>\n",
       "      <td>-0.39</td>\n",
       "      <td>0.64</td>\n",
       "      <td>-0.71</td>\n",
       "      <td>0.60</td>\n",
       "      <td>0.72</td>\n",
       "      <td>0.38</td>\n",
       "      <td>-0.36</td>\n",
       "      <td>0.60</td>\n",
       "      <td>-0.48</td>\n",
       "    </tr>\n",
       "    <tr>\n",
       "      <th>CHAS</th>\n",
       "      <td>-0.06</td>\n",
       "      <td>-0.04</td>\n",
       "      <td>0.06</td>\n",
       "      <td>1.00</td>\n",
       "      <td>0.09</td>\n",
       "      <td>0.09</td>\n",
       "      <td>0.09</td>\n",
       "      <td>-0.10</td>\n",
       "      <td>-0.01</td>\n",
       "      <td>-0.04</td>\n",
       "      <td>-0.12</td>\n",
       "      <td>0.05</td>\n",
       "      <td>-0.05</td>\n",
       "      <td>0.18</td>\n",
       "    </tr>\n",
       "    <tr>\n",
       "      <th>NOX</th>\n",
       "      <td>0.42</td>\n",
       "      <td>-0.52</td>\n",
       "      <td>0.76</td>\n",
       "      <td>0.09</td>\n",
       "      <td>1.00</td>\n",
       "      <td>-0.30</td>\n",
       "      <td>0.73</td>\n",
       "      <td>-0.77</td>\n",
       "      <td>0.61</td>\n",
       "      <td>0.67</td>\n",
       "      <td>0.19</td>\n",
       "      <td>-0.38</td>\n",
       "      <td>0.59</td>\n",
       "      <td>-0.43</td>\n",
       "    </tr>\n",
       "    <tr>\n",
       "      <th>RM</th>\n",
       "      <td>-0.22</td>\n",
       "      <td>0.31</td>\n",
       "      <td>-0.39</td>\n",
       "      <td>0.09</td>\n",
       "      <td>-0.30</td>\n",
       "      <td>1.00</td>\n",
       "      <td>-0.24</td>\n",
       "      <td>0.21</td>\n",
       "      <td>-0.21</td>\n",
       "      <td>-0.29</td>\n",
       "      <td>-0.36</td>\n",
       "      <td>0.13</td>\n",
       "      <td>-0.61</td>\n",
       "      <td>0.70</td>\n",
       "    </tr>\n",
       "    <tr>\n",
       "      <th>AGE</th>\n",
       "      <td>0.35</td>\n",
       "      <td>-0.57</td>\n",
       "      <td>0.64</td>\n",
       "      <td>0.09</td>\n",
       "      <td>0.73</td>\n",
       "      <td>-0.24</td>\n",
       "      <td>1.00</td>\n",
       "      <td>-0.75</td>\n",
       "      <td>0.46</td>\n",
       "      <td>0.51</td>\n",
       "      <td>0.26</td>\n",
       "      <td>-0.27</td>\n",
       "      <td>0.60</td>\n",
       "      <td>-0.38</td>\n",
       "    </tr>\n",
       "    <tr>\n",
       "      <th>DIS</th>\n",
       "      <td>-0.38</td>\n",
       "      <td>0.66</td>\n",
       "      <td>-0.71</td>\n",
       "      <td>-0.10</td>\n",
       "      <td>-0.77</td>\n",
       "      <td>0.21</td>\n",
       "      <td>-0.75</td>\n",
       "      <td>1.00</td>\n",
       "      <td>-0.49</td>\n",
       "      <td>-0.53</td>\n",
       "      <td>-0.23</td>\n",
       "      <td>0.29</td>\n",
       "      <td>-0.50</td>\n",
       "      <td>0.25</td>\n",
       "    </tr>\n",
       "    <tr>\n",
       "      <th>RAD</th>\n",
       "      <td>0.63</td>\n",
       "      <td>-0.31</td>\n",
       "      <td>0.60</td>\n",
       "      <td>-0.01</td>\n",
       "      <td>0.61</td>\n",
       "      <td>-0.21</td>\n",
       "      <td>0.46</td>\n",
       "      <td>-0.49</td>\n",
       "      <td>1.00</td>\n",
       "      <td>0.91</td>\n",
       "      <td>0.46</td>\n",
       "      <td>-0.44</td>\n",
       "      <td>0.49</td>\n",
       "      <td>-0.38</td>\n",
       "    </tr>\n",
       "    <tr>\n",
       "      <th>TAX</th>\n",
       "      <td>0.58</td>\n",
       "      <td>-0.31</td>\n",
       "      <td>0.72</td>\n",
       "      <td>-0.04</td>\n",
       "      <td>0.67</td>\n",
       "      <td>-0.29</td>\n",
       "      <td>0.51</td>\n",
       "      <td>-0.53</td>\n",
       "      <td>0.91</td>\n",
       "      <td>1.00</td>\n",
       "      <td>0.46</td>\n",
       "      <td>-0.44</td>\n",
       "      <td>0.54</td>\n",
       "      <td>-0.47</td>\n",
       "    </tr>\n",
       "    <tr>\n",
       "      <th>PTRATIO</th>\n",
       "      <td>0.29</td>\n",
       "      <td>-0.39</td>\n",
       "      <td>0.38</td>\n",
       "      <td>-0.12</td>\n",
       "      <td>0.19</td>\n",
       "      <td>-0.36</td>\n",
       "      <td>0.26</td>\n",
       "      <td>-0.23</td>\n",
       "      <td>0.46</td>\n",
       "      <td>0.46</td>\n",
       "      <td>1.00</td>\n",
       "      <td>-0.18</td>\n",
       "      <td>0.37</td>\n",
       "      <td>-0.51</td>\n",
       "    </tr>\n",
       "    <tr>\n",
       "      <th>B</th>\n",
       "      <td>-0.39</td>\n",
       "      <td>0.18</td>\n",
       "      <td>-0.36</td>\n",
       "      <td>0.05</td>\n",
       "      <td>-0.38</td>\n",
       "      <td>0.13</td>\n",
       "      <td>-0.27</td>\n",
       "      <td>0.29</td>\n",
       "      <td>-0.44</td>\n",
       "      <td>-0.44</td>\n",
       "      <td>-0.18</td>\n",
       "      <td>1.00</td>\n",
       "      <td>-0.37</td>\n",
       "      <td>0.33</td>\n",
       "    </tr>\n",
       "    <tr>\n",
       "      <th>LSTAT</th>\n",
       "      <td>0.46</td>\n",
       "      <td>-0.41</td>\n",
       "      <td>0.60</td>\n",
       "      <td>-0.05</td>\n",
       "      <td>0.59</td>\n",
       "      <td>-0.61</td>\n",
       "      <td>0.60</td>\n",
       "      <td>-0.50</td>\n",
       "      <td>0.49</td>\n",
       "      <td>0.54</td>\n",
       "      <td>0.37</td>\n",
       "      <td>-0.37</td>\n",
       "      <td>1.00</td>\n",
       "      <td>-0.74</td>\n",
       "    </tr>\n",
       "    <tr>\n",
       "      <th>Price</th>\n",
       "      <td>-0.39</td>\n",
       "      <td>0.36</td>\n",
       "      <td>-0.48</td>\n",
       "      <td>0.18</td>\n",
       "      <td>-0.43</td>\n",
       "      <td>0.70</td>\n",
       "      <td>-0.38</td>\n",
       "      <td>0.25</td>\n",
       "      <td>-0.38</td>\n",
       "      <td>-0.47</td>\n",
       "      <td>-0.51</td>\n",
       "      <td>0.33</td>\n",
       "      <td>-0.74</td>\n",
       "      <td>1.00</td>\n",
       "    </tr>\n",
       "  </tbody>\n",
       "</table>\n",
       "</div>"
      ],
      "text/plain": [
       "         CRIM    ZN  INDUS  CHAS   NOX    RM   AGE   DIS   RAD   TAX  PTRATIO  \\\n",
       "CRIM     1.00 -0.20   0.41 -0.06  0.42 -0.22  0.35 -0.38  0.63  0.58     0.29   \n",
       "ZN      -0.20  1.00  -0.53 -0.04 -0.52  0.31 -0.57  0.66 -0.31 -0.31    -0.39   \n",
       "INDUS    0.41 -0.53   1.00  0.06  0.76 -0.39  0.64 -0.71  0.60  0.72     0.38   \n",
       "CHAS    -0.06 -0.04   0.06  1.00  0.09  0.09  0.09 -0.10 -0.01 -0.04    -0.12   \n",
       "NOX      0.42 -0.52   0.76  0.09  1.00 -0.30  0.73 -0.77  0.61  0.67     0.19   \n",
       "RM      -0.22  0.31  -0.39  0.09 -0.30  1.00 -0.24  0.21 -0.21 -0.29    -0.36   \n",
       "AGE      0.35 -0.57   0.64  0.09  0.73 -0.24  1.00 -0.75  0.46  0.51     0.26   \n",
       "DIS     -0.38  0.66  -0.71 -0.10 -0.77  0.21 -0.75  1.00 -0.49 -0.53    -0.23   \n",
       "RAD      0.63 -0.31   0.60 -0.01  0.61 -0.21  0.46 -0.49  1.00  0.91     0.46   \n",
       "TAX      0.58 -0.31   0.72 -0.04  0.67 -0.29  0.51 -0.53  0.91  1.00     0.46   \n",
       "PTRATIO  0.29 -0.39   0.38 -0.12  0.19 -0.36  0.26 -0.23  0.46  0.46     1.00   \n",
       "B       -0.39  0.18  -0.36  0.05 -0.38  0.13 -0.27  0.29 -0.44 -0.44    -0.18   \n",
       "LSTAT    0.46 -0.41   0.60 -0.05  0.59 -0.61  0.60 -0.50  0.49  0.54     0.37   \n",
       "Price   -0.39  0.36  -0.48  0.18 -0.43  0.70 -0.38  0.25 -0.38 -0.47    -0.51   \n",
       "\n",
       "            B  LSTAT  Price  \n",
       "CRIM    -0.39   0.46  -0.39  \n",
       "ZN       0.18  -0.41   0.36  \n",
       "INDUS   -0.36   0.60  -0.48  \n",
       "CHAS     0.05  -0.05   0.18  \n",
       "NOX     -0.38   0.59  -0.43  \n",
       "RM       0.13  -0.61   0.70  \n",
       "AGE     -0.27   0.60  -0.38  \n",
       "DIS      0.29  -0.50   0.25  \n",
       "RAD     -0.44   0.49  -0.38  \n",
       "TAX     -0.44   0.54  -0.47  \n",
       "PTRATIO -0.18   0.37  -0.51  \n",
       "B        1.00  -0.37   0.33  \n",
       "LSTAT   -0.37   1.00  -0.74  \n",
       "Price    0.33  -0.74   1.00  "
      ]
     },
     "execution_count": 121,
     "metadata": {},
     "output_type": "execute_result"
    }
   ],
   "source": [
    "#correlation matrix\n",
    "#df.corr()\n",
    "df.corr().round(2)"
   ]
  },
  {
   "cell_type": "code",
   "execution_count": 122,
   "id": "77d14882",
   "metadata": {},
   "outputs": [],
   "source": [
    "import seaborn as sns"
   ]
  },
  {
   "cell_type": "code",
   "execution_count": 124,
   "id": "e0983669",
   "metadata": {
    "collapsed": true
   },
   "outputs": [
    {
     "data": {
      "image/png": "[encoded data removed]",
      "text/plain": [
       "<Figure size 720x576 with 2 Axes>"
      ]
     },
     "metadata": {
      "needs_background": "light"
     },
     "output_type": "display_data"
    }
   ],
   "source": [
    "plt.figure(figsize=(10,8))\n",
    "sns.heatmap(data = df.corr().round(2),annot = True)\n",
    "plt.show()"
   ]
  },
  {
   "cell_type": "code",
   "execution_count": 125,
   "id": "268d0599",
   "metadata": {},
   "outputs": [],
   "source": [
    "# Observation : RAD and TAX are highly correlated so we will discard one"
   ]
  },
  {
   "cell_type": "code",
   "execution_count": 127,
   "id": "7acc336e",
   "metadata": {},
   "outputs": [],
   "source": [
    "y = df['Price']\n",
    "x = df.drop(columns = ['Price','TAX'])"
   ]
  },
  {
   "cell_type": "code",
   "execution_count": 130,
   "id": "d11c6546",
   "metadata": {
    "collapsed": true
   },
   "outputs": [
    {
     "data": {
      "text/html": [
       "<div>\n",
       "<style scoped>\n",
       "    .dataframe tbody tr th:only-of-type {\n",
       "        vertical-align: middle;\n",
       "    }\n",
       "\n",
       "    .dataframe tbody tr th {\n",
       "        vertical-align: top;\n",
       "    }\n",
       "\n",
       "    .dataframe thead th {\n",
       "        text-align: right;\n",
       "    }\n",
       "</style>\n",
       "<table border=\"1\" class=\"dataframe\">\n",
       "  <thead>\n",
       "    <tr style=\"text-align: right;\">\n",
       "      <th></th>\n",
       "      <th>CRIM</th>\n",
       "      <th>ZN</th>\n",
       "      <th>INDUS</th>\n",
       "      <th>CHAS</th>\n",
       "      <th>NOX</th>\n",
       "      <th>RM</th>\n",
       "      <th>AGE</th>\n",
       "      <th>DIS</th>\n",
       "      <th>RAD</th>\n",
       "      <th>PTRATIO</th>\n",
       "      <th>B</th>\n",
       "      <th>LSTAT</th>\n",
       "    </tr>\n",
       "  </thead>\n",
       "  <tbody>\n",
       "    <tr>\n",
       "      <th>0</th>\n",
       "      <td>0.00632</td>\n",
       "      <td>18.0</td>\n",
       "      <td>2.31</td>\n",
       "      <td>0.0</td>\n",
       "      <td>0.538</td>\n",
       "      <td>6.575</td>\n",
       "      <td>65.2</td>\n",
       "      <td>4.0900</td>\n",
       "      <td>1.0</td>\n",
       "      <td>15.3</td>\n",
       "      <td>396.90</td>\n",
       "      <td>4.98</td>\n",
       "    </tr>\n",
       "    <tr>\n",
       "      <th>1</th>\n",
       "      <td>0.02731</td>\n",
       "      <td>0.0</td>\n",
       "      <td>7.07</td>\n",
       "      <td>0.0</td>\n",
       "      <td>0.469</td>\n",
       "      <td>6.421</td>\n",
       "      <td>78.9</td>\n",
       "      <td>4.9671</td>\n",
       "      <td>2.0</td>\n",
       "      <td>17.8</td>\n",
       "      <td>396.90</td>\n",
       "      <td>9.14</td>\n",
       "    </tr>\n",
       "    <tr>\n",
       "      <th>2</th>\n",
       "      <td>0.02729</td>\n",
       "      <td>0.0</td>\n",
       "      <td>7.07</td>\n",
       "      <td>0.0</td>\n",
       "      <td>0.469</td>\n",
       "      <td>7.185</td>\n",
       "      <td>61.1</td>\n",
       "      <td>4.9671</td>\n",
       "      <td>2.0</td>\n",
       "      <td>17.8</td>\n",
       "      <td>392.83</td>\n",
       "      <td>4.03</td>\n",
       "    </tr>\n",
       "    <tr>\n",
       "      <th>3</th>\n",
       "      <td>0.03237</td>\n",
       "      <td>0.0</td>\n",
       "      <td>2.18</td>\n",
       "      <td>0.0</td>\n",
       "      <td>0.458</td>\n",
       "      <td>6.998</td>\n",
       "      <td>45.8</td>\n",
       "      <td>6.0622</td>\n",
       "      <td>3.0</td>\n",
       "      <td>18.7</td>\n",
       "      <td>394.63</td>\n",
       "      <td>2.94</td>\n",
       "    </tr>\n",
       "    <tr>\n",
       "      <th>4</th>\n",
       "      <td>0.06905</td>\n",
       "      <td>0.0</td>\n",
       "      <td>2.18</td>\n",
       "      <td>0.0</td>\n",
       "      <td>0.458</td>\n",
       "      <td>7.147</td>\n",
       "      <td>54.2</td>\n",
       "      <td>6.0622</td>\n",
       "      <td>3.0</td>\n",
       "      <td>18.7</td>\n",
       "      <td>396.90</td>\n",
       "      <td>5.33</td>\n",
       "    </tr>\n",
       "  </tbody>\n",
       "</table>\n",
       "</div>"
      ],
      "text/plain": [
       "      CRIM    ZN  INDUS  CHAS    NOX     RM   AGE     DIS  RAD  PTRATIO  \\\n",
       "0  0.00632  18.0   2.31   0.0  0.538  6.575  65.2  4.0900  1.0     15.3   \n",
       "1  0.02731   0.0   7.07   0.0  0.469  6.421  78.9  4.9671  2.0     17.8   \n",
       "2  0.02729   0.0   7.07   0.0  0.469  7.185  61.1  4.9671  2.0     17.8   \n",
       "3  0.03237   0.0   2.18   0.0  0.458  6.998  45.8  6.0622  3.0     18.7   \n",
       "4  0.06905   0.0   2.18   0.0  0.458  7.147  54.2  6.0622  3.0     18.7   \n",
       "\n",
       "        B  LSTAT  \n",
       "0  396.90   4.98  \n",
       "1  396.90   9.14  \n",
       "2  392.83   4.03  \n",
       "3  394.63   2.94  \n",
       "4  396.90   5.33  "
      ]
     },
     "execution_count": 130,
     "metadata": {},
     "output_type": "execute_result"
    }
   ],
   "source": [
    "x.head(5)"
   ]
  },
  {
   "cell_type": "raw",
   "id": "d4b38abd",
   "metadata": {},
   "source": [
    "Split the data into train and test\n",
    "\n",
    "train = 70% - This will be used to build the model\n",
    "test = 30% - This will act like an unseen dataset to the model and hence will be useful in evaluating model performance"
   ]
  },
  {
   "cell_type": "code",
   "execution_count": 131,
   "id": "9dc7d95a",
   "metadata": {},
   "outputs": [],
   "source": [
    "from sklearn.model_selection import train_test_split"
   ]
  },
  {
   "cell_type": "code",
   "execution_count": 132,
   "id": "47f70f14",
   "metadata": {},
   "outputs": [],
   "source": [
    "X_train, X_test, Y_train, Y_test = train_test_split(x,y, test_size=0.33, random_state = 5)"
   ]
  },
  {
   "cell_type": "code",
   "execution_count": 134,
   "id": "48fcdbfd",
   "metadata": {},
   "outputs": [
    {
     "data": {
      "text/plain": [
       "(506, 14)"
      ]
     },
     "execution_count": 134,
     "metadata": {},
     "output_type": "execute_result"
    }
   ],
   "source": [
    "df.shape"
   ]
  },
  {
   "cell_type": "code",
   "execution_count": 133,
   "id": "0bb74e98",
   "metadata": {
    "collapsed": true
   },
   "outputs": [
    {
     "name": "stdout",
     "output_type": "stream",
     "text": [
      "(339, 12)\n",
      "(167, 12)\n",
      "(339,)\n",
      "(167,)\n"
     ]
    }
   ],
   "source": [
    "print(X_train.shape)\n",
    "print(X_test.shape)\n",
    "print(Y_train.shape)\n",
    "print(Y_test.shape)"
   ]
  },
  {
   "cell_type": "code",
   "execution_count": 135,
   "id": "f47718b0",
   "metadata": {},
   "outputs": [
    {
     "data": {
      "text/plain": [
       "LinearRegression()"
      ]
     },
     "execution_count": 135,
     "metadata": {},
     "output_type": "execute_result"
    }
   ],
   "source": [
    "lm = LinearRegression()\n",
    "lm.fit(X_train,Y_train)"
   ]
  },
  {
   "cell_type": "code",
   "execution_count": 136,
   "id": "02632f32",
   "metadata": {},
   "outputs": [],
   "source": [
    "Y_pred = lm.predict(X_test)"
   ]
  },
  {
   "cell_type": "code",
   "execution_count": 138,
   "id": "ccc7a22c",
   "metadata": {
    "collapsed": true
   },
   "outputs": [
    {
     "data": {
      "text/html": [
       "<div>\n",
       "<style scoped>\n",
       "    .dataframe tbody tr th:only-of-type {\n",
       "        vertical-align: middle;\n",
       "    }\n",
       "\n",
       "    .dataframe tbody tr th {\n",
       "        vertical-align: top;\n",
       "    }\n",
       "\n",
       "    .dataframe thead th {\n",
       "        text-align: right;\n",
       "    }\n",
       "</style>\n",
       "<table border=\"1\" class=\"dataframe\">\n",
       "  <thead>\n",
       "    <tr style=\"text-align: right;\">\n",
       "      <th></th>\n",
       "      <th>CRIM</th>\n",
       "      <th>ZN</th>\n",
       "      <th>INDUS</th>\n",
       "      <th>CHAS</th>\n",
       "      <th>NOX</th>\n",
       "      <th>RM</th>\n",
       "      <th>AGE</th>\n",
       "      <th>DIS</th>\n",
       "      <th>RAD</th>\n",
       "      <th>PTRATIO</th>\n",
       "      <th>B</th>\n",
       "      <th>LSTAT</th>\n",
       "    </tr>\n",
       "  </thead>\n",
       "  <tbody>\n",
       "    <tr>\n",
       "      <th>226</th>\n",
       "      <td>0.38214</td>\n",
       "      <td>0.0</td>\n",
       "      <td>6.20</td>\n",
       "      <td>0.0</td>\n",
       "      <td>0.504</td>\n",
       "      <td>8.040</td>\n",
       "      <td>86.5</td>\n",
       "      <td>3.2157</td>\n",
       "      <td>8.0</td>\n",
       "      <td>17.4</td>\n",
       "      <td>387.38</td>\n",
       "      <td>3.13</td>\n",
       "    </tr>\n",
       "    <tr>\n",
       "      <th>292</th>\n",
       "      <td>0.03615</td>\n",
       "      <td>80.0</td>\n",
       "      <td>4.95</td>\n",
       "      <td>0.0</td>\n",
       "      <td>0.411</td>\n",
       "      <td>6.630</td>\n",
       "      <td>23.4</td>\n",
       "      <td>5.1167</td>\n",
       "      <td>4.0</td>\n",
       "      <td>19.2</td>\n",
       "      <td>396.90</td>\n",
       "      <td>4.70</td>\n",
       "    </tr>\n",
       "    <tr>\n",
       "      <th>90</th>\n",
       "      <td>0.04684</td>\n",
       "      <td>0.0</td>\n",
       "      <td>3.41</td>\n",
       "      <td>0.0</td>\n",
       "      <td>0.489</td>\n",
       "      <td>6.417</td>\n",
       "      <td>66.1</td>\n",
       "      <td>3.0923</td>\n",
       "      <td>2.0</td>\n",
       "      <td>17.8</td>\n",
       "      <td>392.18</td>\n",
       "      <td>8.81</td>\n",
       "    </tr>\n",
       "  </tbody>\n",
       "</table>\n",
       "</div>"
      ],
      "text/plain": [
       "        CRIM    ZN  INDUS  CHAS    NOX     RM   AGE     DIS  RAD  PTRATIO  \\\n",
       "226  0.38214   0.0   6.20   0.0  0.504  8.040  86.5  3.2157  8.0     17.4   \n",
       "292  0.03615  80.0   4.95   0.0  0.411  6.630  23.4  5.1167  4.0     19.2   \n",
       "90   0.04684   0.0   3.41   0.0  0.489  6.417  66.1  3.0923  2.0     17.8   \n",
       "\n",
       "          B  LSTAT  \n",
       "226  387.38   3.13  \n",
       "292  396.90   4.70  \n",
       "90   392.18   8.81  "
      ]
     },
     "execution_count": 138,
     "metadata": {},
     "output_type": "execute_result"
    }
   ],
   "source": [
    "X_test[:3]"
   ]
  },
  {
   "cell_type": "code",
   "execution_count": 139,
   "id": "35baf32d",
   "metadata": {
    "collapsed": true
   },
   "outputs": [
    {
     "data": {
      "text/plain": [
       "226    37.6\n",
       "292    27.9\n",
       "90     22.6\n",
       "Name: Price, dtype: float64"
      ]
     },
     "execution_count": 139,
     "metadata": {},
     "output_type": "execute_result"
    }
   ],
   "source": [
    "#Actual values of the first three observations in test set\n",
    "Y_test[:3]"
   ]
  },
  {
   "cell_type": "code",
   "execution_count": 140,
   "id": "1e9f44b4",
   "metadata": {},
   "outputs": [
    {
     "data": {
      "text/plain": [
       "array([37.14183476, 30.40791513, 27.61853221])"
      ]
     },
     "execution_count": 140,
     "metadata": {},
     "output_type": "execute_result"
    }
   ],
   "source": [
    "#Predicted values of the first three observations in test set\n",
    "Y_pred[:3]"
   ]
  },
  {
   "cell_type": "code",
   "execution_count": 141,
   "id": "2db4e303",
   "metadata": {
    "collapsed": true
   },
   "outputs": [
    {
     "name": "stdout",
     "output_type": "stream",
     "text": [
      "R Squared :  0.6919698418730327\n",
      "Mean Absolute Error :  3.5082325352773895\n",
      "Mean Squared Error :  28.875935229082856\n",
      "Root Mean Squared Error :  5.3736333359360176\n"
     ]
    }
   ],
   "source": [
    "print('R Squared : ',metrics.r2_score(Y_test,Y_pred))\n",
    "print('Mean Absolute Error : ',metrics.mean_absolute_error(Y_test,Y_pred))\n",
    "print('Mean Squared Error : ',metrics.mean_squared_error(Y_test,Y_pred))\n",
    "print('Root Mean Squared Error : ',np.sqrt(metrics.mean_squared_error(Y_test,Y_pred)))"
   ]
  },
  {
   "cell_type": "code",
   "execution_count": 151,
   "id": "28c99349",
   "metadata": {},
   "outputs": [
    {
     "data": {
      "text/plain": [
       "31.27554325625436"
      ]
     },
     "execution_count": 151,
     "metadata": {},
     "output_type": "execute_result"
    }
   ],
   "source": [
    "lm.intercept_"
   ]
  },
  {
   "cell_type": "code",
   "execution_count": 144,
   "id": "1c15a835",
   "metadata": {},
   "outputs": [
    {
     "data": {
      "text/plain": [
       "array([ -0.16,   0.03,  -0.11,   1.14, -14.46,   4.09,  -0.01,  -1.41,\n",
       "         0.15,  -1.03,   0.01,  -0.47])"
      ]
     },
     "execution_count": 144,
     "metadata": {},
     "output_type": "execute_result"
    }
   ],
   "source": [
    "np.set_printoptions(suppress=True)\n",
    "lm.coef_.round(2)"
   ]
  },
  {
   "cell_type": "code",
   "execution_count": 147,
   "id": "40871f4c",
   "metadata": {
    "scrolled": true
   },
   "outputs": [
    {
     "data": {
      "text/plain": [
       "array(['CRIM', 'ZN', 'INDUS', 'CHAS', 'NOX', 'RM', 'AGE', 'DIS', 'RAD',\n",
       "       'PTRATIO', 'B', 'LSTAT'], dtype=object)"
      ]
     },
     "execution_count": 147,
     "metadata": {},
     "output_type": "execute_result"
    }
   ],
   "source": [
    "X_test.columns.values"
   ]
  },
  {
   "cell_type": "code",
   "execution_count": 150,
   "id": "db8c8fb2",
   "metadata": {},
   "outputs": [
    {
     "data": {
      "text/html": [
       "<div>\n",
       "<style scoped>\n",
       "    .dataframe tbody tr th:only-of-type {\n",
       "        vertical-align: middle;\n",
       "    }\n",
       "\n",
       "    .dataframe tbody tr th {\n",
       "        vertical-align: top;\n",
       "    }\n",
       "\n",
       "    .dataframe thead th {\n",
       "        text-align: right;\n",
       "    }\n",
       "</style>\n",
       "<table border=\"1\" class=\"dataframe\">\n",
       "  <thead>\n",
       "    <tr style=\"text-align: right;\">\n",
       "      <th></th>\n",
       "      <th>CRIM</th>\n",
       "      <th>ZN</th>\n",
       "      <th>INDUS</th>\n",
       "      <th>CHAS</th>\n",
       "      <th>NOX</th>\n",
       "      <th>RM</th>\n",
       "      <th>AGE</th>\n",
       "      <th>DIS</th>\n",
       "      <th>RAD</th>\n",
       "      <th>PTRATIO</th>\n",
       "      <th>B</th>\n",
       "      <th>LSTAT</th>\n",
       "    </tr>\n",
       "  </thead>\n",
       "  <tbody>\n",
       "    <tr>\n",
       "      <th>0</th>\n",
       "      <td>-0.16</td>\n",
       "      <td>0.03</td>\n",
       "      <td>-0.11</td>\n",
       "      <td>1.14</td>\n",
       "      <td>-14.46</td>\n",
       "      <td>4.09</td>\n",
       "      <td>-0.01</td>\n",
       "      <td>-1.41</td>\n",
       "      <td>0.15</td>\n",
       "      <td>-1.03</td>\n",
       "      <td>0.01</td>\n",
       "      <td>-0.47</td>\n",
       "    </tr>\n",
       "  </tbody>\n",
       "</table>\n",
       "</div>"
      ],
      "text/plain": [
       "   CRIM    ZN  INDUS  CHAS    NOX    RM   AGE   DIS   RAD  PTRATIO     B  \\\n",
       "0 -0.16  0.03  -0.11  1.14 -14.46  4.09 -0.01 -1.41  0.15    -1.03  0.01   \n",
       "\n",
       "   LSTAT  \n",
       "0  -0.47  "
      ]
     },
     "execution_count": 150,
     "metadata": {},
     "output_type": "execute_result"
    }
   ],
   "source": [
    "coefs = pd.DataFrame(lm.coef_.round(2)).T\n",
    "coefs.columns = X_test.columns.values\n",
    "coefs"
   ]
  },
  {
   "cell_type": "code",
   "execution_count": null,
   "id": "59d4abbe",
   "metadata": {},
   "outputs": [],
   "source": [
    "Y = -0.16CRIM + 0.03ZN - 0.11INDUS + .... + 31.2"
   ]
  }
 ],
 "metadata": {
  "kernelspec": {
   "display_name": "Python 3",
   "language": "python",
   "name": "python3"
  },
  "language_info": {
   "codemirror_mode": {
    "name": "ipython",
    "version": 3
   },
   "file_extension": ".py",
   "mimetype": "text/x-python",
   "name": "python",
   "nbconvert_exporter": "python",
   "pygments_lexer": "ipython3",
   "version": "3.8.8"
  }
 },
 "nbformat": 4,
 "nbformat_minor": 5
}
